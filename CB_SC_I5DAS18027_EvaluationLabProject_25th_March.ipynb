{
  "nbformat": 4,
  "nbformat_minor": 0,
  "metadata": {
    "colab": {
      "name": "CB.SC.I5DAS18027 - EvaluationLabProject - 25th March.ipynb",
      "provenance": [],
      "collapsed_sections": [
        "Yym4aFDkQZgf"
      ],
      "authorship_tag": "ABX9TyMuLSHfsJ1msms778oD7XeK",
      "include_colab_link": true
    },
    "kernelspec": {
      "name": "python3",
      "display_name": "Python 3"
    },
    "language_info": {
      "name": "python"
    }
  },
  "cells": [
    {
      "cell_type": "markdown",
      "metadata": {
        "id": "view-in-github",
        "colab_type": "text"
      },
      "source": [
        "<a href=\"https://colab.research.google.com/github/PragyaAnanth/MLProject/blob/main/CB_SC_I5DAS18027_EvaluationLabProject_25th_March.ipynb\" target=\"_parent\"><img src=\"https://colab.research.google.com/assets/colab-badge.svg\" alt=\"Open In Colab\"/></a>"
      ]
    },
    {
      "cell_type": "markdown",
      "metadata": {
        "id": "ZnKK5-vxQLNh"
      },
      "source": [
        "### **18CS383 - Lab 8 - 25th March 2021**\n",
        "### **Evaluation Lab 2**\n",
        "# **Classification of Code Review Questions — A Project**\n",
        "\n",
        "**Faculty:** <br>\n",
        "Dr. Sikha O K <br>\n",
        "Assistant Professor(Sr.Gr) <br>\n",
        "Department of Computer Science and Engineering<br>\n",
        "Amrita School of Engineering Coimbatore <br>\n",
        "<br>\n",
        "\n",
        "**Student Details:** \n",
        "### **Pragya Ananth**\n",
        "### **CB.SC.I5DAS18027**\n",
        "Integrated M.Sc. Data Science <br>"
      ]
    },
    {
      "cell_type": "markdown",
      "metadata": {
        "id": "8QfN5wLSQyZf"
      },
      "source": [
        "# Mounting, Data reading, Library Imports"
      ]
    },
    {
      "cell_type": "code",
      "metadata": {
        "colab": {
          "base_uri": "https://localhost:8080/"
        },
        "id": "wPT33fT8QF0o",
        "outputId": "5aabd6f6-fb14-4be5-88ce-532cf5ccaa5a"
      },
      "source": [
        "from google.colab import drive\n",
        "drive.mount('/content/drive')"
      ],
      "execution_count": null,
      "outputs": [
        {
          "output_type": "stream",
          "text": [
            "Mounted at /content/drive\n"
          ],
          "name": "stdout"
        }
      ]
    },
    {
      "cell_type": "code",
      "metadata": {
        "id": "Mwrx1L2oGpwI",
        "colab": {
          "base_uri": "https://localhost:8080/"
        },
        "outputId": "11189807-a895-4836-dd2e-68faf1c4c69f"
      },
      "source": [
        "#!pip install contractions\n",
        "!pip install xgboost"
      ],
      "execution_count": null,
      "outputs": [
        {
          "output_type": "stream",
          "text": [
            "Requirement already satisfied: xgboost in /usr/local/lib/python3.7/dist-packages (0.90)\n",
            "Requirement already satisfied: scipy in /usr/local/lib/python3.7/dist-packages (from xgboost) (1.4.1)\n",
            "Requirement already satisfied: numpy in /usr/local/lib/python3.7/dist-packages (from xgboost) (1.19.5)\n"
          ],
          "name": "stdout"
        }
      ]
    },
    {
      "cell_type": "code",
      "metadata": {
        "id": "Se0jVAUxQ7mH"
      },
      "source": [
        "import pandas as pd\n",
        "from sklearn.model_selection import train_test_split\n",
        "#from contractions import contractions_dict\n",
        "import re # function to expand contractions\n",
        "#from openpyxl import load_workbook\n",
        "import string\n",
        "import nltk\n",
        "import spacy\n",
        "from nltk.tokenize import ToktokTokenizer\n",
        "from wordcloud import WordCloud\n",
        "import matplotlib.pyplot as plt\n",
        "from nltk.tokenize import word_tokenize\n",
        "from nltk.tokenize import ToktokTokenizer\n",
        "from sklearn.feature_extraction.text import TfidfTransformer\n",
        "from sklearn.feature_extraction.text import TfidfVectorizer\n",
        "from sklearn.naive_bayes import MultinomialNB\n",
        "from sklearn.metrics import accuracy_score\n",
        "import numpy as np\n",
        "import matplotlib.pyplot as plt\n",
        "from sklearn import preprocessing\n",
        "from sklearn.neighbors import KNeighborsClassifier\n",
        "from sklearn import metrics\n",
        "from sklearn.preprocessing import StandardScaler\n",
        "from sklearn.linear_model import LogisticRegression\n",
        "from sklearn.metrics import confusion_matrix\n",
        "from xgboost import XGBClassifier"
      ],
      "execution_count": null,
      "outputs": []
    },
    {
      "cell_type": "code",
      "metadata": {
        "colab": {
          "base_uri": "https://localhost:8080/"
        },
        "id": "d0QV0kaTYD4X",
        "outputId": "94c20983-2989-4ff0-c5a0-7a879fd127ac"
      },
      "source": [
        "import nltk\n",
        "nltk.download('stopwords')"
      ],
      "execution_count": null,
      "outputs": [
        {
          "output_type": "stream",
          "text": [
            "[nltk_data] Downloading package stopwords to /root/nltk_data...\n",
            "[nltk_data]   Unzipping corpora/stopwords.zip.\n"
          ],
          "name": "stdout"
        },
        {
          "output_type": "execute_result",
          "data": {
            "text/plain": [
              "True"
            ]
          },
          "metadata": {
            "tags": []
          },
          "execution_count": 4
        }
      ]
    },
    {
      "cell_type": "code",
      "metadata": {
        "colab": {
          "base_uri": "https://localhost:8080/"
        },
        "id": "wXHubSLQdEZZ",
        "outputId": "2661001f-8822-4fc4-f177-22d6d3d17a4b"
      },
      "source": [
        "nltk.download('punkt')"
      ],
      "execution_count": null,
      "outputs": [
        {
          "output_type": "stream",
          "text": [
            "[nltk_data] Downloading package punkt to /root/nltk_data...\n",
            "[nltk_data]   Unzipping tokenizers/punkt.zip.\n"
          ],
          "name": "stdout"
        },
        {
          "output_type": "execute_result",
          "data": {
            "text/plain": [
              "True"
            ]
          },
          "metadata": {
            "tags": []
          },
          "execution_count": 5
        }
      ]
    },
    {
      "cell_type": "code",
      "metadata": {
        "colab": {
          "base_uri": "https://localhost:8080/",
          "height": 202
        },
        "id": "X-guj-9sRFLR",
        "outputId": "fca58bce-aade-42b3-9e9f-015fafcd1284"
      },
      "source": [
        "df=pd.read_excel('/content/drive/MyDrive/18CSC383_ML_Lab/Lab 7 - EvalProject - 25th Mar/Clean Dataset.xlsx')\n",
        "df.head()"
      ],
      "execution_count": null,
      "outputs": [
        {
          "output_type": "execute_result",
          "data": {
            "text/html": [
              "<div>\n",
              "<style scoped>\n",
              "    .dataframe tbody tr th:only-of-type {\n",
              "        vertical-align: middle;\n",
              "    }\n",
              "\n",
              "    .dataframe tbody tr th {\n",
              "        vertical-align: top;\n",
              "    }\n",
              "\n",
              "    .dataframe thead th {\n",
              "        text-align: right;\n",
              "    }\n",
              "</style>\n",
              "<table border=\"1\" class=\"dataframe\">\n",
              "  <thead>\n",
              "    <tr style=\"text-align: right;\">\n",
              "      <th></th>\n",
              "      <th>inline-comment-id</th>\n",
              "      <th># Comment</th>\n",
              "      <th>Question</th>\n",
              "      <th>Final Label</th>\n",
              "      <th>Main Question Words</th>\n",
              "    </tr>\n",
              "  </thead>\n",
              "  <tbody>\n",
              "    <tr>\n",
              "      <th>0</th>\n",
              "      <td>84326dd1_566c7146</td>\n",
              "      <td>1</td>\n",
              "      <td>is this what they intended? don't they really ...</td>\n",
              "      <td>request for confirmation</td>\n",
              "      <td>is this what they intended?</td>\n",
              "    </tr>\n",
              "    <tr>\n",
              "      <th>1</th>\n",
              "      <td>84326dd1_566c7146</td>\n",
              "      <td>2</td>\n",
              "      <td>is this what they intended? don't they really ...</td>\n",
              "      <td>surprise</td>\n",
              "      <td>don't they really want $(TARGET_OUT_DATA_NATIV...</td>\n",
              "    </tr>\n",
              "    <tr>\n",
              "      <th>2</th>\n",
              "      <td>99d1f8e4_92b31cea</td>\n",
              "      <td>3</td>\n",
              "      <td>Don't we need to increment 'i' in the else cas...</td>\n",
              "      <td>suggestion</td>\n",
              "      <td>Don't we need to increment 'i' in the else cas...</td>\n",
              "    </tr>\n",
              "    <tr>\n",
              "      <th>3</th>\n",
              "      <td>193d089f_f5fac752</td>\n",
              "      <td>4</td>\n",
              "      <td>i can't see anywhere where this is set to fals...</td>\n",
              "      <td>suggestion</td>\n",
              "      <td>should we just adjust the single reference in ...</td>\n",
              "    </tr>\n",
              "    <tr>\n",
              "      <th>4</th>\n",
              "      <td>50c2f81e_ac4fd6fc</td>\n",
              "      <td>5</td>\n",
              "      <td>are you sure you want to include this source f...</td>\n",
              "      <td>criticism</td>\n",
              "      <td>are you sure you want to include this source f...</td>\n",
              "    </tr>\n",
              "  </tbody>\n",
              "</table>\n",
              "</div>"
            ],
            "text/plain": [
              "   inline-comment-id  ...                                Main Question Words\n",
              "0  84326dd1_566c7146  ...                        is this what they intended?\n",
              "1  84326dd1_566c7146  ...  don't they really want $(TARGET_OUT_DATA_NATIV...\n",
              "2  99d1f8e4_92b31cea  ...  Don't we need to increment 'i' in the else cas...\n",
              "3  193d089f_f5fac752  ...  should we just adjust the single reference in ...\n",
              "4  50c2f81e_ac4fd6fc  ...  are you sure you want to include this source f...\n",
              "\n",
              "[5 rows x 5 columns]"
            ]
          },
          "metadata": {
            "tags": []
          },
          "execution_count": 6
        }
      ]
    },
    {
      "cell_type": "code",
      "metadata": {
        "colab": {
          "base_uri": "https://localhost:8080/"
        },
        "id": "GgwOzkeARP3M",
        "outputId": "b337195a-ca76-4a5c-db99-ba35fc24205e"
      },
      "source": [
        "df.shape"
      ],
      "execution_count": null,
      "outputs": [
        {
          "output_type": "execute_result",
          "data": {
            "text/plain": [
              "(499, 5)"
            ]
          },
          "metadata": {
            "tags": []
          },
          "execution_count": 4
        }
      ]
    },
    {
      "cell_type": "code",
      "metadata": {
        "colab": {
          "base_uri": "https://localhost:8080/"
        },
        "id": "FWpRHeUsO8zi",
        "outputId": "d7274b6f-cec8-41ae-a6a6-f0292b432a17"
      },
      "source": [
        "df.isnull().sum()"
      ],
      "execution_count": null,
      "outputs": [
        {
          "output_type": "execute_result",
          "data": {
            "text/plain": [
              "inline-comment-id      0\n",
              "# Comment              0\n",
              "Question               0\n",
              "Final Label            0\n",
              "Main Question Words    0\n",
              "dtype: int64"
            ]
          },
          "metadata": {
            "tags": []
          },
          "execution_count": 5
        }
      ]
    },
    {
      "cell_type": "markdown",
      "metadata": {
        "id": "7dutIMBzPCKX"
      },
      "source": [
        "Great!"
      ]
    },
    {
      "cell_type": "code",
      "metadata": {
        "colab": {
          "base_uri": "https://localhost:8080/"
        },
        "id": "hvZR8jrYRS_M",
        "outputId": "e36e0d1d-efa0-4d18-8b47-5aa4264d1692"
      },
      "source": [
        "df['Final Label'].unique()"
      ],
      "execution_count": null,
      "outputs": [
        {
          "output_type": "execute_result",
          "data": {
            "text/plain": [
              "array(['request for confirmation', 'surprise', 'suggestion', 'criticism',\n",
              "       'hypothetical scenario', 'request for action',\n",
              "       'request for clarification', 'request for information',\n",
              "       'request for opinion', 'rhetorical question', 'discarded',\n",
              "       'request for rationale', 'action', 'anger'], dtype=object)"
            ]
          },
          "metadata": {
            "tags": []
          },
          "execution_count": 6
        }
      ]
    },
    {
      "cell_type": "markdown",
      "metadata": {
        "id": "n1YRksjNeyS2"
      },
      "source": [
        "# Normalisation"
      ]
    },
    {
      "cell_type": "code",
      "metadata": {
        "colab": {
          "base_uri": "https://localhost:8080/"
        },
        "id": "ZWE8_ZgiFicG",
        "outputId": "80a190fc-0e0f-4f81-87f3-3af9dc3d1821"
      },
      "source": [
        "df.loc[0:5,'Main Question Words']"
      ],
      "execution_count": null,
      "outputs": [
        {
          "output_type": "execute_result",
          "data": {
            "text/plain": [
              "0                          is this what they intended?\n",
              "1    don't they really want $(TARGET_OUT_DATA_NATIV...\n",
              "2    Don't we need to increment 'i' in the else cas...\n",
              "3    should we just adjust the single reference in ...\n",
              "4    are you sure you want to include this source f...\n",
              "5                    Why not create a static library ?\n",
              "Name: Main Question Words, dtype: object"
            ]
          },
          "metadata": {
            "tags": []
          },
          "execution_count": 7
        }
      ]
    },
    {
      "cell_type": "code",
      "metadata": {
        "id": "zmrrO80HfVzC"
      },
      "source": [
        "df['Lower Question Words']=df['Main Question Words'].map(lambda x: x.lower())"
      ],
      "execution_count": null,
      "outputs": []
    },
    {
      "cell_type": "code",
      "metadata": {
        "colab": {
          "base_uri": "https://localhost:8080/",
          "height": 306
        },
        "id": "f7k0-LCQF2CE",
        "outputId": "89b8220c-29c1-4f21-ed78-487e8071544e"
      },
      "source": [
        "#df.loc[0:5,'Main Question Words']\n",
        "df.head()"
      ],
      "execution_count": null,
      "outputs": [
        {
          "output_type": "execute_result",
          "data": {
            "text/html": [
              "<div>\n",
              "<style scoped>\n",
              "    .dataframe tbody tr th:only-of-type {\n",
              "        vertical-align: middle;\n",
              "    }\n",
              "\n",
              "    .dataframe tbody tr th {\n",
              "        vertical-align: top;\n",
              "    }\n",
              "\n",
              "    .dataframe thead th {\n",
              "        text-align: right;\n",
              "    }\n",
              "</style>\n",
              "<table border=\"1\" class=\"dataframe\">\n",
              "  <thead>\n",
              "    <tr style=\"text-align: right;\">\n",
              "      <th></th>\n",
              "      <th>inline-comment-id</th>\n",
              "      <th># Comment</th>\n",
              "      <th>Question</th>\n",
              "      <th>Final Label</th>\n",
              "      <th>Main Question Words</th>\n",
              "      <th>Lower Question Words</th>\n",
              "    </tr>\n",
              "  </thead>\n",
              "  <tbody>\n",
              "    <tr>\n",
              "      <th>0</th>\n",
              "      <td>84326dd1_566c7146</td>\n",
              "      <td>1</td>\n",
              "      <td>is this what they intended? don't they really ...</td>\n",
              "      <td>request for confirmation</td>\n",
              "      <td>is this what they intended?</td>\n",
              "      <td>is this what they intended?</td>\n",
              "    </tr>\n",
              "    <tr>\n",
              "      <th>1</th>\n",
              "      <td>84326dd1_566c7146</td>\n",
              "      <td>2</td>\n",
              "      <td>is this what they intended? don't they really ...</td>\n",
              "      <td>surprise</td>\n",
              "      <td>don't they really want $(TARGET_OUT_DATA_NATIV...</td>\n",
              "      <td>don't they really want $(target_out_data_nativ...</td>\n",
              "    </tr>\n",
              "    <tr>\n",
              "      <th>2</th>\n",
              "      <td>99d1f8e4_92b31cea</td>\n",
              "      <td>3</td>\n",
              "      <td>Don't we need to increment 'i' in the else cas...</td>\n",
              "      <td>suggestion</td>\n",
              "      <td>Don't we need to increment 'i' in the else cas...</td>\n",
              "      <td>don't we need to increment 'i' in the else cas...</td>\n",
              "    </tr>\n",
              "    <tr>\n",
              "      <th>3</th>\n",
              "      <td>193d089f_f5fac752</td>\n",
              "      <td>4</td>\n",
              "      <td>i can't see anywhere where this is set to fals...</td>\n",
              "      <td>suggestion</td>\n",
              "      <td>should we just adjust the single reference in ...</td>\n",
              "      <td>should we just adjust the single reference in ...</td>\n",
              "    </tr>\n",
              "    <tr>\n",
              "      <th>4</th>\n",
              "      <td>50c2f81e_ac4fd6fc</td>\n",
              "      <td>5</td>\n",
              "      <td>are you sure you want to include this source f...</td>\n",
              "      <td>criticism</td>\n",
              "      <td>are you sure you want to include this source f...</td>\n",
              "      <td>are you sure you want to include this source f...</td>\n",
              "    </tr>\n",
              "  </tbody>\n",
              "</table>\n",
              "</div>"
            ],
            "text/plain": [
              "   inline-comment-id  ...                               Lower Question Words\n",
              "0  84326dd1_566c7146  ...                        is this what they intended?\n",
              "1  84326dd1_566c7146  ...  don't they really want $(target_out_data_nativ...\n",
              "2  99d1f8e4_92b31cea  ...  don't we need to increment 'i' in the else cas...\n",
              "3  193d089f_f5fac752  ...  should we just adjust the single reference in ...\n",
              "4  50c2f81e_ac4fd6fc  ...  are you sure you want to include this source f...\n",
              "\n",
              "[5 rows x 6 columns]"
            ]
          },
          "metadata": {
            "tags": []
          },
          "execution_count": 8
        }
      ]
    },
    {
      "cell_type": "markdown",
      "metadata": {
        "id": "zAttmBWgGDly"
      },
      "source": [
        "# Apostrophe Cleanup"
      ]
    },
    {
      "cell_type": "code",
      "metadata": {
        "id": "_P5RqpcGLJT5"
      },
      "source": [
        "contractions = {\n",
        "\"ain't\": \"is not\",\n",
        "\"aren't\": \"are not\",\n",
        "\"can't\": \"cannot\",\n",
        "\"can't've\": \"cannot have\",\n",
        "\"'cause\": \"because\",\n",
        "\"could've\": \"could have\",\n",
        "\"couldn't\": \"could not\",\n",
        "\"couldn't've\": \"could not have\",\n",
        "\"didn't\": \"did not\",\n",
        "\"doesn't\": \"does not\",\n",
        "\"don't\": \"do not\",\n",
        "\"hadn't\": \"had not\",\n",
        "\"hadn't've\": \"had not have\",\n",
        "\"hasn't\": \"has not\",\n",
        "\"haven't\": \"have not\",\n",
        "\"he'd\": \"he would\",\n",
        "\"he'd've\": \"he would have\",\n",
        "\"he'll\": \"he will\",\n",
        "\"he'll've\": \"he he will have\",\n",
        "\"he's\": \"he is\",\n",
        "\"how'd\": \"how did\",\n",
        "\"how'd'y\": \"how do you\",\n",
        "\"how'll\": \"how will\",\n",
        "\"how's\": \"how is\",\n",
        "\"I'd\": \"I would\",\n",
        "\"I'd've\": \"I would have\",\n",
        "\"I'll\": \"I will\",\n",
        "\"I'll've\": \"I will have\",\n",
        "\"I'm\": \"I am\",\n",
        "\"I've\": \"I have\",\n",
        "\"i'd\": \"i would\",\n",
        "\"i'd've\": \"i would have\",\n",
        "\"i'll\": \"i will\",\n",
        "\"i'll've\": \"i will have\",\n",
        "\"i'm\": \"i am\",\n",
        "\"i've\": \"i have\",\n",
        "\"isn't\": \"is not\",\n",
        "\"it'd\": \"it would\",\n",
        "\"it'd've\": \"it would have\",\n",
        "\"it'll\": \"it will\",\n",
        "\"it'll've\": \"it will have\",\n",
        "\"it's\": \"it is\",\n",
        "\"let's\": \"let us\",\n",
        "\"ma'am\": \"madam\",\n",
        "\"mayn't\": \"may not\",\n",
        "\"might've\": \"might have\",\n",
        "\"mightn't\": \"might not\",\n",
        "\"mightn't've\": \"might not have\",\n",
        "\"must've\": \"must have\",\n",
        "\"mustn't\": \"must not\",\n",
        "\"mustn't've\": \"must not have\",\n",
        "\"needn't\": \"need not\",\n",
        "\"needn't've\": \"need not have\",\n",
        "\"o'clock\": \"of the clock\",\n",
        "\"oughtn't\": \"ought not\",\n",
        "\"oughtn't've\": \"ought not have\",\n",
        "\"shan't\": \"shall not\",\n",
        "\"sha'n't\": \"shall not\",\n",
        "\"shan't've\": \"shall not have\",\n",
        "\"she'd\": \"she would\",\n",
        "\"she'd've\": \"she would have\",\n",
        "\"she'll\": \"she will\",\n",
        "\"she'll've\": \"she will have\",\n",
        "\"she's\": \"she is\",\n",
        "\"should've\": \"should have\",\n",
        "\"shouldn't\": \"should not\",\n",
        "\"shouldn't've\": \"should not have\",\n",
        "\"so've\": \"so have\",\n",
        "\"so's\": \"so as\",\n",
        "\"that'd\": \"that would\",\n",
        "\"that'd've\": \"that would have\",\n",
        "\"that's\": \"that is\",\n",
        "\"there'd\": \"there would\",\n",
        "\"there'd've\": \"there would have\",\n",
        "\"there's\": \"there is\",\n",
        "\"they'd\": \"they would\",\n",
        "\"they'd've\": \"they would have\",\n",
        "\"they'll\": \"they will\",\n",
        "\"they'll've\": \"they will have\",\n",
        "\"they're\": \"they are\",\n",
        "\"they've\": \"they have\",\n",
        "\"to've\": \"to have\",\n",
        "\"wasn't\": \"was not\",\n",
        "\"we'd\": \"we would\",\n",
        "\"we'd've\": \"we would have\",\n",
        "\"we'll\": \"we will\",\n",
        "\"we'll've\": \"we will have\",\n",
        "\"we're\": \"we are\",\n",
        "\"we've\": \"we have\",\n",
        "\"weren't\": \"were not\",\n",
        "\"what'll\": \"what will\",\n",
        "\"what'll've\": \"what will have\",\n",
        "\"what're\": \"what are\",\n",
        "\"what's\": \"what is\",\n",
        "\"what've\": \"what have\",\n",
        "\"when's\": \"when is\",\n",
        "\"when've\": \"when have\",\n",
        "\"where'd\": \"where did\",\n",
        "\"where's\": \"where is\",\n",
        "\"where've\": \"where have\",\n",
        "\"who'll\": \"who will\",\n",
        "\"who'll've\": \"who will have\",\n",
        "\"who's\": \"who is\",\n",
        "\"who've\": \"who have\",\n",
        "\"why's\": \"why is\",\n",
        "\"why've\": \"why have\",\n",
        "\"will've\": \"will have\",\n",
        "\"won't\": \"will not\",\n",
        "\"won't've\": \"will not have\",\n",
        "\"would've\": \"would have\",\n",
        "\"wouldn't\": \"would not\",\n",
        "\"wouldn't've\": \"would not have\",\n",
        "\"y'all\": \"you all\",\n",
        "\"y'all'd\": \"you all would\",\n",
        "\"y'all'd've\": \"you all would have\",\n",
        "\"y'all're\": \"you all are\",\n",
        "\"y'all've\": \"you all have\",\n",
        "\"you'd\": \"you would\",\n",
        "\"you'd've\": \"you would have\",\n",
        "\"you'll\": \"you will\",\n",
        "\"you'll've\": \"you will have\",\n",
        "\"you're\": \"you are\",\n",
        "\"you've\": \"you have\"\n",
        "}"
      ],
      "execution_count": null,
      "outputs": []
    },
    {
      "cell_type": "code",
      "metadata": {
        "id": "Jxxde979OMWD"
      },
      "source": [
        "df[\"Without Apostrophes\"]=\"\"\n",
        "for i in range(len(df)):\n",
        "  text=df.loc[i,'Lower Question Words']\n",
        "  for word in text.split():\n",
        "      if word in contractions:\n",
        "          text=text.replace(word, contractions[word.lower()])\n",
        "      df.loc[i,\"Without Apostrophes\"]=text"
      ],
      "execution_count": null,
      "outputs": []
    },
    {
      "cell_type": "code",
      "metadata": {
        "colab": {
          "base_uri": "https://localhost:8080/"
        },
        "id": "FNRXtSi_Paa6",
        "outputId": "bf0392bf-245b-4565-fc34-2640c3fc4698"
      },
      "source": [
        "df.head(10)"
      ],
      "execution_count": null,
      "outputs": [
        {
          "output_type": "execute_result",
          "data": {
            "text/html": [
              "<div>\n",
              "<style scoped>\n",
              "    .dataframe tbody tr th:only-of-type {\n",
              "        vertical-align: middle;\n",
              "    }\n",
              "\n",
              "    .dataframe tbody tr th {\n",
              "        vertical-align: top;\n",
              "    }\n",
              "\n",
              "    .dataframe thead th {\n",
              "        text-align: right;\n",
              "    }\n",
              "</style>\n",
              "<table border=\"1\" class=\"dataframe\">\n",
              "  <thead>\n",
              "    <tr style=\"text-align: right;\">\n",
              "      <th></th>\n",
              "      <th>inline-comment-id</th>\n",
              "      <th># Comment</th>\n",
              "      <th>Question</th>\n",
              "      <th>Final Label</th>\n",
              "      <th>Main Question Words</th>\n",
              "      <th>Lower Question Words</th>\n",
              "      <th>Without Apostrophes</th>\n",
              "    </tr>\n",
              "  </thead>\n",
              "  <tbody>\n",
              "    <tr>\n",
              "      <th>0</th>\n",
              "      <td>84326dd1_566c7146</td>\n",
              "      <td>1</td>\n",
              "      <td>is this what they intended? don't they really ...</td>\n",
              "      <td>request for confirmation</td>\n",
              "      <td>is this what they intended?</td>\n",
              "      <td>is this what they intended?</td>\n",
              "      <td>is this what they intended?</td>\n",
              "    </tr>\n",
              "    <tr>\n",
              "      <th>1</th>\n",
              "      <td>84326dd1_566c7146</td>\n",
              "      <td>2</td>\n",
              "      <td>is this what they intended? don't they really ...</td>\n",
              "      <td>surprise</td>\n",
              "      <td>don't they really want $(TARGET_OUT_DATA_NATIV...</td>\n",
              "      <td>don't they really want $(target_out_data_nativ...</td>\n",
              "      <td>do not they really want $(target_out_data_nati...</td>\n",
              "    </tr>\n",
              "    <tr>\n",
              "      <th>2</th>\n",
              "      <td>99d1f8e4_92b31cea</td>\n",
              "      <td>3</td>\n",
              "      <td>Don't we need to increment 'i' in the else cas...</td>\n",
              "      <td>suggestion</td>\n",
              "      <td>Don't we need to increment 'i' in the else cas...</td>\n",
              "      <td>don't we need to increment 'i' in the else cas...</td>\n",
              "      <td>do not we need to increment 'i' in the else ca...</td>\n",
              "    </tr>\n",
              "    <tr>\n",
              "      <th>3</th>\n",
              "      <td>193d089f_f5fac752</td>\n",
              "      <td>4</td>\n",
              "      <td>i can't see anywhere where this is set to fals...</td>\n",
              "      <td>suggestion</td>\n",
              "      <td>should we just adjust the single reference in ...</td>\n",
              "      <td>should we just adjust the single reference in ...</td>\n",
              "      <td>should we just adjust the single reference in ...</td>\n",
              "    </tr>\n",
              "    <tr>\n",
              "      <th>4</th>\n",
              "      <td>50c2f81e_ac4fd6fc</td>\n",
              "      <td>5</td>\n",
              "      <td>are you sure you want to include this source f...</td>\n",
              "      <td>criticism</td>\n",
              "      <td>are you sure you want to include this source f...</td>\n",
              "      <td>are you sure you want to include this source f...</td>\n",
              "      <td>are you sure you want to include this source f...</td>\n",
              "    </tr>\n",
              "    <tr>\n",
              "      <th>5</th>\n",
              "      <td>50c2f81e_ac4fd6fc</td>\n",
              "      <td>6</td>\n",
              "      <td>are you sure you want to include this source f...</td>\n",
              "      <td>suggestion</td>\n",
              "      <td>Why not create a static library ?</td>\n",
              "      <td>why not create a static library ?</td>\n",
              "      <td>why not create a static library ?</td>\n",
              "    </tr>\n",
              "    <tr>\n",
              "      <th>6</th>\n",
              "      <td>106fa0ad_13adacaa</td>\n",
              "      <td>7</td>\n",
              "      <td>wangying: ADDRESS_SANITIZER_RUNTIME_LIBRARY co...</td>\n",
              "      <td>request for confirmation</td>\n",
              "      <td>Is this an okay way to do that?</td>\n",
              "      <td>is this an okay way to do that?</td>\n",
              "      <td>is this an okay way to do that?</td>\n",
              "    </tr>\n",
              "    <tr>\n",
              "      <th>7</th>\n",
              "      <td>106fa0ad_13adacaa</td>\n",
              "      <td>8</td>\n",
              "      <td>wangying: ADDRESS_SANITIZER_RUNTIME_LIBRARY co...</td>\n",
              "      <td>hypothetical scenario</td>\n",
              "      <td>Is this going to have problems with multilib?</td>\n",
              "      <td>is this going to have problems with multilib?</td>\n",
              "      <td>is this going to have problems with multilib?</td>\n",
              "    </tr>\n",
              "    <tr>\n",
              "      <th>8</th>\n",
              "      <td>1a6dff43_0646dc80</td>\n",
              "      <td>9</td>\n",
              "      <td>Please add parentheses around this.\\n\\nAlso, c...</td>\n",
              "      <td>request for action</td>\n",
              "      <td>Also, can you add a comment similar to what is...</td>\n",
              "      <td>also, can you add a comment similar to what is...</td>\n",
              "      <td>also, can you add a comment similar to what is...</td>\n",
              "    </tr>\n",
              "    <tr>\n",
              "      <th>9</th>\n",
              "      <td>1fcb3196_598a0379</td>\n",
              "      <td>10</td>\n",
              "      <td>Here's this pattern again.\\n\\nIt makes me worr...</td>\n",
              "      <td>request for clarification</td>\n",
              "      <td>Is there a use-case I'm missing?</td>\n",
              "      <td>is there a use-case i'm missing?</td>\n",
              "      <td>is there a use-case i am missing?</td>\n",
              "    </tr>\n",
              "  </tbody>\n",
              "</table>\n",
              "</div>"
            ],
            "text/plain": [
              "   inline-comment-id  ...                                Without Apostrophes\n",
              "0  84326dd1_566c7146  ...                        is this what they intended?\n",
              "1  84326dd1_566c7146  ...  do not they really want $(target_out_data_nati...\n",
              "2  99d1f8e4_92b31cea  ...  do not we need to increment 'i' in the else ca...\n",
              "3  193d089f_f5fac752  ...  should we just adjust the single reference in ...\n",
              "4  50c2f81e_ac4fd6fc  ...  are you sure you want to include this source f...\n",
              "5  50c2f81e_ac4fd6fc  ...                  why not create a static library ?\n",
              "6  106fa0ad_13adacaa  ...                    is this an okay way to do that?\n",
              "7  106fa0ad_13adacaa  ...      is this going to have problems with multilib?\n",
              "8  1a6dff43_0646dc80  ...  also, can you add a comment similar to what is...\n",
              "9  1fcb3196_598a0379  ...                  is there a use-case i am missing?\n",
              "\n",
              "[10 rows x 7 columns]"
            ]
          },
          "metadata": {
            "tags": []
          },
          "execution_count": 11
        }
      ]
    },
    {
      "cell_type": "markdown",
      "metadata": {
        "id": "Lj7RGyoQRMoS"
      },
      "source": [
        "# Removing Special Characters"
      ]
    },
    {
      "cell_type": "code",
      "metadata": {
        "colab": {
          "base_uri": "https://localhost:8080/"
        },
        "id": "Zz5Myz5CRPT6",
        "outputId": "3799a4d2-fefb-4457-ac99-9439145c7200"
      },
      "source": [
        "# function to remove special characters\n",
        "def remove_special_characters(text):\n",
        "    # define the pattern to keep\n",
        "    pat = r'[^a-zA-z0-9.,!?/:;\\\"\\'\\s_]' \n",
        "    return re.sub(pat, '', text)\n",
        " \n",
        "# call function\n",
        "remove_special_characters(\"007 Not sure@ if this % was #fun! 558923 What do# you think** of it.? $500USD!\")"
      ],
      "execution_count": null,
      "outputs": [
        {
          "output_type": "execute_result",
          "data": {
            "application/vnd.google.colaboratory.intrinsic+json": {
              "type": "string"
            },
            "text/plain": [
              "'007 Not sure if this  was fun! 558923 What do you think of it.? 500USD!'"
            ]
          },
          "metadata": {
            "tags": []
          },
          "execution_count": 12
        }
      ]
    },
    {
      "cell_type": "code",
      "metadata": {
        "id": "1nSQi-jSRizi"
      },
      "source": [
        "df[\"Without SpecialChars\"]=\"\"\n",
        "for i in range(len(df)):\n",
        "   text=df.loc[i,\"Without Apostrophes\"]\n",
        "   df.loc[i,\"Without SpecialChars\"]=remove_special_characters(text)"
      ],
      "execution_count": null,
      "outputs": []
    },
    {
      "cell_type": "code",
      "metadata": {
        "colab": {
          "base_uri": "https://localhost:8080/"
        },
        "id": "qp0WOxhRSqki",
        "outputId": "4df176d5-03f3-4110-896f-4c8ce6912c2f"
      },
      "source": [
        "df.head(10)"
      ],
      "execution_count": null,
      "outputs": [
        {
          "output_type": "execute_result",
          "data": {
            "text/html": [
              "<div>\n",
              "<style scoped>\n",
              "    .dataframe tbody tr th:only-of-type {\n",
              "        vertical-align: middle;\n",
              "    }\n",
              "\n",
              "    .dataframe tbody tr th {\n",
              "        vertical-align: top;\n",
              "    }\n",
              "\n",
              "    .dataframe thead th {\n",
              "        text-align: right;\n",
              "    }\n",
              "</style>\n",
              "<table border=\"1\" class=\"dataframe\">\n",
              "  <thead>\n",
              "    <tr style=\"text-align: right;\">\n",
              "      <th></th>\n",
              "      <th>inline-comment-id</th>\n",
              "      <th># Comment</th>\n",
              "      <th>Question</th>\n",
              "      <th>Final Label</th>\n",
              "      <th>Main Question Words</th>\n",
              "      <th>Lower Question Words</th>\n",
              "      <th>Without Apostrophes</th>\n",
              "      <th>Without SpecialChars</th>\n",
              "    </tr>\n",
              "  </thead>\n",
              "  <tbody>\n",
              "    <tr>\n",
              "      <th>0</th>\n",
              "      <td>84326dd1_566c7146</td>\n",
              "      <td>1</td>\n",
              "      <td>is this what they intended? don't they really ...</td>\n",
              "      <td>request for confirmation</td>\n",
              "      <td>is this what they intended?</td>\n",
              "      <td>is this what they intended?</td>\n",
              "      <td>is this what they intended?</td>\n",
              "      <td>is this what they intended?</td>\n",
              "    </tr>\n",
              "    <tr>\n",
              "      <th>1</th>\n",
              "      <td>84326dd1_566c7146</td>\n",
              "      <td>2</td>\n",
              "      <td>is this what they intended? don't they really ...</td>\n",
              "      <td>surprise</td>\n",
              "      <td>don't they really want $(TARGET_OUT_DATA_NATIV...</td>\n",
              "      <td>don't they really want $(target_out_data_nativ...</td>\n",
              "      <td>do not they really want $(target_out_data_nati...</td>\n",
              "      <td>do not they really want target_out_data_native...</td>\n",
              "    </tr>\n",
              "    <tr>\n",
              "      <th>2</th>\n",
              "      <td>99d1f8e4_92b31cea</td>\n",
              "      <td>3</td>\n",
              "      <td>Don't we need to increment 'i' in the else cas...</td>\n",
              "      <td>suggestion</td>\n",
              "      <td>Don't we need to increment 'i' in the else cas...</td>\n",
              "      <td>don't we need to increment 'i' in the else cas...</td>\n",
              "      <td>do not we need to increment 'i' in the else ca...</td>\n",
              "      <td>do not we need to increment 'i' in the else ca...</td>\n",
              "    </tr>\n",
              "    <tr>\n",
              "      <th>3</th>\n",
              "      <td>193d089f_f5fac752</td>\n",
              "      <td>4</td>\n",
              "      <td>i can't see anywhere where this is set to fals...</td>\n",
              "      <td>suggestion</td>\n",
              "      <td>should we just adjust the single reference in ...</td>\n",
              "      <td>should we just adjust the single reference in ...</td>\n",
              "      <td>should we just adjust the single reference in ...</td>\n",
              "      <td>should we just adjust the single reference in ...</td>\n",
              "    </tr>\n",
              "    <tr>\n",
              "      <th>4</th>\n",
              "      <td>50c2f81e_ac4fd6fc</td>\n",
              "      <td>5</td>\n",
              "      <td>are you sure you want to include this source f...</td>\n",
              "      <td>criticism</td>\n",
              "      <td>are you sure you want to include this source f...</td>\n",
              "      <td>are you sure you want to include this source f...</td>\n",
              "      <td>are you sure you want to include this source f...</td>\n",
              "      <td>are you sure you want to include this source f...</td>\n",
              "    </tr>\n",
              "    <tr>\n",
              "      <th>5</th>\n",
              "      <td>50c2f81e_ac4fd6fc</td>\n",
              "      <td>6</td>\n",
              "      <td>are you sure you want to include this source f...</td>\n",
              "      <td>suggestion</td>\n",
              "      <td>Why not create a static library ?</td>\n",
              "      <td>why not create a static library ?</td>\n",
              "      <td>why not create a static library ?</td>\n",
              "      <td>why not create a static library ?</td>\n",
              "    </tr>\n",
              "    <tr>\n",
              "      <th>6</th>\n",
              "      <td>106fa0ad_13adacaa</td>\n",
              "      <td>7</td>\n",
              "      <td>wangying: ADDRESS_SANITIZER_RUNTIME_LIBRARY co...</td>\n",
              "      <td>request for confirmation</td>\n",
              "      <td>Is this an okay way to do that?</td>\n",
              "      <td>is this an okay way to do that?</td>\n",
              "      <td>is this an okay way to do that?</td>\n",
              "      <td>is this an okay way to do that?</td>\n",
              "    </tr>\n",
              "    <tr>\n",
              "      <th>7</th>\n",
              "      <td>106fa0ad_13adacaa</td>\n",
              "      <td>8</td>\n",
              "      <td>wangying: ADDRESS_SANITIZER_RUNTIME_LIBRARY co...</td>\n",
              "      <td>hypothetical scenario</td>\n",
              "      <td>Is this going to have problems with multilib?</td>\n",
              "      <td>is this going to have problems with multilib?</td>\n",
              "      <td>is this going to have problems with multilib?</td>\n",
              "      <td>is this going to have problems with multilib?</td>\n",
              "    </tr>\n",
              "    <tr>\n",
              "      <th>8</th>\n",
              "      <td>1a6dff43_0646dc80</td>\n",
              "      <td>9</td>\n",
              "      <td>Please add parentheses around this.\\n\\nAlso, c...</td>\n",
              "      <td>request for action</td>\n",
              "      <td>Also, can you add a comment similar to what is...</td>\n",
              "      <td>also, can you add a comment similar to what is...</td>\n",
              "      <td>also, can you add a comment similar to what is...</td>\n",
              "      <td>also, can you add a comment similar to what is...</td>\n",
              "    </tr>\n",
              "    <tr>\n",
              "      <th>9</th>\n",
              "      <td>1fcb3196_598a0379</td>\n",
              "      <td>10</td>\n",
              "      <td>Here's this pattern again.\\n\\nIt makes me worr...</td>\n",
              "      <td>request for clarification</td>\n",
              "      <td>Is there a use-case I'm missing?</td>\n",
              "      <td>is there a use-case i'm missing?</td>\n",
              "      <td>is there a use-case i am missing?</td>\n",
              "      <td>is there a usecase i am missing?</td>\n",
              "    </tr>\n",
              "  </tbody>\n",
              "</table>\n",
              "</div>"
            ],
            "text/plain": [
              "   inline-comment-id  ...                               Without SpecialChars\n",
              "0  84326dd1_566c7146  ...                        is this what they intended?\n",
              "1  84326dd1_566c7146  ...  do not they really want target_out_data_native...\n",
              "2  99d1f8e4_92b31cea  ...  do not we need to increment 'i' in the else ca...\n",
              "3  193d089f_f5fac752  ...  should we just adjust the single reference in ...\n",
              "4  50c2f81e_ac4fd6fc  ...  are you sure you want to include this source f...\n",
              "5  50c2f81e_ac4fd6fc  ...                  why not create a static library ?\n",
              "6  106fa0ad_13adacaa  ...                    is this an okay way to do that?\n",
              "7  106fa0ad_13adacaa  ...      is this going to have problems with multilib?\n",
              "8  1a6dff43_0646dc80  ...  also, can you add a comment similar to what is...\n",
              "9  1fcb3196_598a0379  ...                   is there a usecase i am missing?\n",
              "\n",
              "[10 rows x 8 columns]"
            ]
          },
          "metadata": {
            "tags": []
          },
          "execution_count": 14
        }
      ]
    },
    {
      "cell_type": "markdown",
      "metadata": {
        "id": "6x33_KKjSySa"
      },
      "source": [
        "# Removing numbers"
      ]
    },
    {
      "cell_type": "code",
      "metadata": {
        "id": "NwkE6UsMVNwu"
      },
      "source": [
        "def remove_numbers(text):\n",
        "    pattern = r'[^a-zA-z.,!?/:;\\\"\\'\\s_]' \n",
        "    return re.sub(pattern, '', text)"
      ],
      "execution_count": null,
      "outputs": []
    },
    {
      "cell_type": "code",
      "metadata": {
        "id": "UZqk50wfOhkW"
      },
      "source": [
        "df[\"Without Numbers\"]=\"\"\n",
        "for i in range(len(df)):\n",
        "   text=df.loc[i,\"Without SpecialChars\"]\n",
        "   df.loc[i,\"Without Numbers\"]=remove_numbers(text)"
      ],
      "execution_count": null,
      "outputs": []
    },
    {
      "cell_type": "code",
      "metadata": {
        "colab": {
          "base_uri": "https://localhost:8080/"
        },
        "id": "zhVaydHFOxh9",
        "outputId": "450ae726-4eae-442e-ea68-58c5cac6bf64"
      },
      "source": [
        "df.iloc[57:62,:]"
      ],
      "execution_count": null,
      "outputs": [
        {
          "output_type": "execute_result",
          "data": {
            "text/html": [
              "<div>\n",
              "<style scoped>\n",
              "    .dataframe tbody tr th:only-of-type {\n",
              "        vertical-align: middle;\n",
              "    }\n",
              "\n",
              "    .dataframe tbody tr th {\n",
              "        vertical-align: top;\n",
              "    }\n",
              "\n",
              "    .dataframe thead th {\n",
              "        text-align: right;\n",
              "    }\n",
              "</style>\n",
              "<table border=\"1\" class=\"dataframe\">\n",
              "  <thead>\n",
              "    <tr style=\"text-align: right;\">\n",
              "      <th></th>\n",
              "      <th>inline-comment-id</th>\n",
              "      <th># Comment</th>\n",
              "      <th>Question</th>\n",
              "      <th>Final Label</th>\n",
              "      <th>Main Question Words</th>\n",
              "      <th>Lower Question Words</th>\n",
              "      <th>Without Apostrophes</th>\n",
              "      <th>Without SpecialChars</th>\n",
              "      <th>Without Numbers</th>\n",
              "    </tr>\n",
              "  </thead>\n",
              "  <tbody>\n",
              "    <tr>\n",
              "      <th>57</th>\n",
              "      <td>AAAAwX%2F%2F%2FV4%3D</td>\n",
              "      <td>58</td>\n",
              "      <td>How about the LAC then? If location is FFFFFFF...</td>\n",
              "      <td>request for information</td>\n",
              "      <td>Should the new test cover both lac and cid?</td>\n",
              "      <td>should the new test cover both lac and cid?</td>\n",
              "      <td>should the new test cover both lac and cid?</td>\n",
              "      <td>should the new test cover both lac and cid?</td>\n",
              "      <td>should the new test cover both lac and cid?</td>\n",
              "    </tr>\n",
              "    <tr>\n",
              "      <th>58</th>\n",
              "      <td>AAAAzX%2F%2F%2Bjc%3D</td>\n",
              "      <td>59</td>\n",
              "      <td>Why are you testing add() 10 times? Either tes...</td>\n",
              "      <td>criticism</td>\n",
              "      <td>Why are you testing add() 10 times?</td>\n",
              "      <td>why are you testing add() 10 times?</td>\n",
              "      <td>why are you testing add() 10 times?</td>\n",
              "      <td>why are you testing add 10 times?</td>\n",
              "      <td>why are you testing add  times?</td>\n",
              "    </tr>\n",
              "    <tr>\n",
              "      <th>59</th>\n",
              "      <td>AAAA3n%2F%2F%2Fpo%3D</td>\n",
              "      <td>60</td>\n",
              "      <td>so you're looping until you close a single she...</td>\n",
              "      <td>request for confirmation</td>\n",
              "      <td>so you're looping until you close a single shell?</td>\n",
              "      <td>so you're looping until you close a single shell?</td>\n",
              "      <td>so you are looping until you close a single sh...</td>\n",
              "      <td>so you are looping until you close a single sh...</td>\n",
              "      <td>so you are looping until you close a single sh...</td>\n",
              "    </tr>\n",
              "    <tr>\n",
              "      <th>60</th>\n",
              "      <td>AAAA3n%2F%2F%2Fpo%3D</td>\n",
              "      <td>61</td>\n",
              "      <td>so you're looping until you close a single she...</td>\n",
              "      <td>request for confirmation</td>\n",
              "      <td>Is that really what you want?</td>\n",
              "      <td>is that really what you want?</td>\n",
              "      <td>is that really what you want?</td>\n",
              "      <td>is that really what you want?</td>\n",
              "      <td>is that really what you want?</td>\n",
              "    </tr>\n",
              "    <tr>\n",
              "      <th>61</th>\n",
              "      <td>AAAA73%2F%2F%2FjU%3D</td>\n",
              "      <td>62</td>\n",
              "      <td>is this called at all for now? I couldn't find...</td>\n",
              "      <td>request for information</td>\n",
              "      <td>is this called at all for now?</td>\n",
              "      <td>is this called at all for now?</td>\n",
              "      <td>is this called at all for now?</td>\n",
              "      <td>is this called at all for now?</td>\n",
              "      <td>is this called at all for now?</td>\n",
              "    </tr>\n",
              "  </tbody>\n",
              "</table>\n",
              "</div>"
            ],
            "text/plain": [
              "       inline-comment-id  ...                                    Without Numbers\n",
              "57  AAAAwX%2F%2F%2FV4%3D  ...        should the new test cover both lac and cid?\n",
              "58  AAAAzX%2F%2F%2Bjc%3D  ...                    why are you testing add  times?\n",
              "59  AAAA3n%2F%2F%2Fpo%3D  ...  so you are looping until you close a single sh...\n",
              "60  AAAA3n%2F%2F%2Fpo%3D  ...                      is that really what you want?\n",
              "61  AAAA73%2F%2F%2FjU%3D  ...                     is this called at all for now?\n",
              "\n",
              "[5 rows x 9 columns]"
            ]
          },
          "metadata": {
            "tags": []
          },
          "execution_count": 17
        }
      ]
    },
    {
      "cell_type": "markdown",
      "metadata": {
        "id": "1wyLbjJUPjD6"
      },
      "source": [
        "# Removing punctuation"
      ]
    },
    {
      "cell_type": "code",
      "metadata": {
        "colab": {
          "base_uri": "https://localhost:8080/"
        },
        "id": "bnl4pNXFPlsM",
        "outputId": "3ec225e6-2497-47e0-9fe4-be8654fb93f2"
      },
      "source": [
        "# function to remove punctuation\n",
        "def remove_punctuation(text):\n",
        "    text = ''.join([c for c in text if c not in string.punctuation])\n",
        "    return text\n",
        "    \n",
        "# call function\n",
        "remove_punctuation('Article: @First sentence of some, {important} article having lot of ~ punctuations. And another one;!')"
      ],
      "execution_count": null,
      "outputs": [
        {
          "output_type": "execute_result",
          "data": {
            "application/vnd.google.colaboratory.intrinsic+json": {
              "type": "string"
            },
            "text/plain": [
              "'Article First sentence of some important article having lot of  punctuations And another one'"
            ]
          },
          "metadata": {
            "tags": []
          },
          "execution_count": 18
        }
      ]
    },
    {
      "cell_type": "code",
      "metadata": {
        "id": "suVU9pOxQ6jx"
      },
      "source": [
        "df[\"Without Punctuations\"]=\"\"\n",
        "for i in range(len(df)):\n",
        "   text=df.loc[i,\"Without Numbers\"]\n",
        "   df.loc[i,\"Without Punctuations\"]=remove_punctuation(text)"
      ],
      "execution_count": null,
      "outputs": []
    },
    {
      "cell_type": "code",
      "metadata": {
        "colab": {
          "base_uri": "https://localhost:8080/"
        },
        "id": "nCP6PpZ6RKvt",
        "outputId": "7f362ec3-cdd9-4a20-9fb8-800a03779c48"
      },
      "source": [
        "df.head()"
      ],
      "execution_count": null,
      "outputs": [
        {
          "output_type": "execute_result",
          "data": {
            "text/html": [
              "<div>\n",
              "<style scoped>\n",
              "    .dataframe tbody tr th:only-of-type {\n",
              "        vertical-align: middle;\n",
              "    }\n",
              "\n",
              "    .dataframe tbody tr th {\n",
              "        vertical-align: top;\n",
              "    }\n",
              "\n",
              "    .dataframe thead th {\n",
              "        text-align: right;\n",
              "    }\n",
              "</style>\n",
              "<table border=\"1\" class=\"dataframe\">\n",
              "  <thead>\n",
              "    <tr style=\"text-align: right;\">\n",
              "      <th></th>\n",
              "      <th>inline-comment-id</th>\n",
              "      <th># Comment</th>\n",
              "      <th>Question</th>\n",
              "      <th>Final Label</th>\n",
              "      <th>Main Question Words</th>\n",
              "      <th>Lower Question Words</th>\n",
              "      <th>Without Apostrophes</th>\n",
              "      <th>Without SpecialChars</th>\n",
              "      <th>Without Numbers</th>\n",
              "      <th>Without Punctuations</th>\n",
              "    </tr>\n",
              "  </thead>\n",
              "  <tbody>\n",
              "    <tr>\n",
              "      <th>0</th>\n",
              "      <td>84326dd1_566c7146</td>\n",
              "      <td>1</td>\n",
              "      <td>is this what they intended? don't they really ...</td>\n",
              "      <td>request for confirmation</td>\n",
              "      <td>is this what they intended?</td>\n",
              "      <td>is this what they intended?</td>\n",
              "      <td>is this what they intended?</td>\n",
              "      <td>is this what they intended?</td>\n",
              "      <td>is this what they intended?</td>\n",
              "      <td>is this what they intended</td>\n",
              "    </tr>\n",
              "    <tr>\n",
              "      <th>1</th>\n",
              "      <td>84326dd1_566c7146</td>\n",
              "      <td>2</td>\n",
              "      <td>is this what they intended? don't they really ...</td>\n",
              "      <td>surprise</td>\n",
              "      <td>don't they really want $(TARGET_OUT_DATA_NATIV...</td>\n",
              "      <td>don't they really want $(target_out_data_nativ...</td>\n",
              "      <td>do not they really want $(target_out_data_nati...</td>\n",
              "      <td>do not they really want target_out_data_native...</td>\n",
              "      <td>do not they really want target_out_data_native...</td>\n",
              "      <td>do not they really want targetoutdatanativetest</td>\n",
              "    </tr>\n",
              "    <tr>\n",
              "      <th>2</th>\n",
              "      <td>99d1f8e4_92b31cea</td>\n",
              "      <td>3</td>\n",
              "      <td>Don't we need to increment 'i' in the else cas...</td>\n",
              "      <td>suggestion</td>\n",
              "      <td>Don't we need to increment 'i' in the else cas...</td>\n",
              "      <td>don't we need to increment 'i' in the else cas...</td>\n",
              "      <td>do not we need to increment 'i' in the else ca...</td>\n",
              "      <td>do not we need to increment 'i' in the else ca...</td>\n",
              "      <td>do not we need to increment 'i' in the else ca...</td>\n",
              "      <td>do not we need to increment i in the else case...</td>\n",
              "    </tr>\n",
              "    <tr>\n",
              "      <th>3</th>\n",
              "      <td>193d089f_f5fac752</td>\n",
              "      <td>4</td>\n",
              "      <td>i can't see anywhere where this is set to fals...</td>\n",
              "      <td>suggestion</td>\n",
              "      <td>should we just adjust the single reference in ...</td>\n",
              "      <td>should we just adjust the single reference in ...</td>\n",
              "      <td>should we just adjust the single reference in ...</td>\n",
              "      <td>should we just adjust the single reference in ...</td>\n",
              "      <td>should we just adjust the single reference in ...</td>\n",
              "      <td>should we just adjust the single reference in ...</td>\n",
              "    </tr>\n",
              "    <tr>\n",
              "      <th>4</th>\n",
              "      <td>50c2f81e_ac4fd6fc</td>\n",
              "      <td>5</td>\n",
              "      <td>are you sure you want to include this source f...</td>\n",
              "      <td>criticism</td>\n",
              "      <td>are you sure you want to include this source f...</td>\n",
              "      <td>are you sure you want to include this source f...</td>\n",
              "      <td>are you sure you want to include this source f...</td>\n",
              "      <td>are you sure you want to include this source f...</td>\n",
              "      <td>are you sure you want to include this source f...</td>\n",
              "      <td>are you sure you want to include this source f...</td>\n",
              "    </tr>\n",
              "  </tbody>\n",
              "</table>\n",
              "</div>"
            ],
            "text/plain": [
              "   inline-comment-id  ...                               Without Punctuations\n",
              "0  84326dd1_566c7146  ...                         is this what they intended\n",
              "1  84326dd1_566c7146  ...    do not they really want targetoutdatanativetest\n",
              "2  99d1f8e4_92b31cea  ...  do not we need to increment i in the else case...\n",
              "3  193d089f_f5fac752  ...  should we just adjust the single reference in ...\n",
              "4  50c2f81e_ac4fd6fc  ...  are you sure you want to include this source f...\n",
              "\n",
              "[5 rows x 10 columns]"
            ]
          },
          "metadata": {
            "tags": []
          },
          "execution_count": 20
        }
      ]
    },
    {
      "cell_type": "markdown",
      "metadata": {
        "id": "uN5MvN2dR_LW"
      },
      "source": [
        "# Stemming"
      ]
    },
    {
      "cell_type": "code",
      "metadata": {
        "colab": {
          "base_uri": "https://localhost:8080/"
        },
        "id": "IdT8KzkdSBpn",
        "outputId": "b6d0222b-b9fc-402a-c5d9-44cc99411487"
      },
      "source": [
        "# function for stemming\n",
        "def get_stem(text):\n",
        "    stemmer = nltk.porter.PorterStemmer()\n",
        "    text = ' '.join([stemmer.stem(word) for word in text.split()])\n",
        "    return text\n",
        "    \n",
        "# call function\n",
        "get_stem(\"we are eating and swimming this; we have been eating and swimming else; he eats and swims ; he ate and swam \")"
      ],
      "execution_count": null,
      "outputs": [
        {
          "output_type": "execute_result",
          "data": {
            "application/vnd.google.colaboratory.intrinsic+json": {
              "type": "string"
            },
            "text/plain": [
              "'we are eat and swim this; we have been eat and swim else; he eat and swim ; he ate and swam'"
            ]
          },
          "metadata": {
            "tags": []
          },
          "execution_count": 21
        }
      ]
    },
    {
      "cell_type": "code",
      "metadata": {
        "id": "TRrp1O0vS8Sd"
      },
      "source": [
        "df[\"Stemmed\"]=\"\"\n",
        "for i in range(len(df)):\n",
        "    text=df.loc[i,'Without Punctuations']\n",
        "    fin=get_stem(text)\n",
        "    df.loc[i,'Stemmed']=fin"
      ],
      "execution_count": null,
      "outputs": []
    },
    {
      "cell_type": "code",
      "metadata": {
        "colab": {
          "base_uri": "https://localhost:8080/"
        },
        "id": "zFIiAggBTfj-",
        "outputId": "34cb0722-6d89-4ddd-b2df-c8c928ee65c1"
      },
      "source": [
        "df.head()"
      ],
      "execution_count": null,
      "outputs": [
        {
          "output_type": "execute_result",
          "data": {
            "text/html": [
              "<div>\n",
              "<style scoped>\n",
              "    .dataframe tbody tr th:only-of-type {\n",
              "        vertical-align: middle;\n",
              "    }\n",
              "\n",
              "    .dataframe tbody tr th {\n",
              "        vertical-align: top;\n",
              "    }\n",
              "\n",
              "    .dataframe thead th {\n",
              "        text-align: right;\n",
              "    }\n",
              "</style>\n",
              "<table border=\"1\" class=\"dataframe\">\n",
              "  <thead>\n",
              "    <tr style=\"text-align: right;\">\n",
              "      <th></th>\n",
              "      <th>inline-comment-id</th>\n",
              "      <th># Comment</th>\n",
              "      <th>Question</th>\n",
              "      <th>Final Label</th>\n",
              "      <th>Main Question Words</th>\n",
              "      <th>Lower Question Words</th>\n",
              "      <th>Without Apostrophes</th>\n",
              "      <th>Without SpecialChars</th>\n",
              "      <th>Without Numbers</th>\n",
              "      <th>Without Punctuations</th>\n",
              "      <th>Stemmed</th>\n",
              "    </tr>\n",
              "  </thead>\n",
              "  <tbody>\n",
              "    <tr>\n",
              "      <th>0</th>\n",
              "      <td>84326dd1_566c7146</td>\n",
              "      <td>1</td>\n",
              "      <td>is this what they intended? don't they really ...</td>\n",
              "      <td>request for confirmation</td>\n",
              "      <td>is this what they intended?</td>\n",
              "      <td>is this what they intended?</td>\n",
              "      <td>is this what they intended?</td>\n",
              "      <td>is this what they intended?</td>\n",
              "      <td>is this what they intended?</td>\n",
              "      <td>is this what they intended</td>\n",
              "      <td>is thi what they intend</td>\n",
              "    </tr>\n",
              "    <tr>\n",
              "      <th>1</th>\n",
              "      <td>84326dd1_566c7146</td>\n",
              "      <td>2</td>\n",
              "      <td>is this what they intended? don't they really ...</td>\n",
              "      <td>surprise</td>\n",
              "      <td>don't they really want $(TARGET_OUT_DATA_NATIV...</td>\n",
              "      <td>don't they really want $(target_out_data_nativ...</td>\n",
              "      <td>do not they really want $(target_out_data_nati...</td>\n",
              "      <td>do not they really want target_out_data_native...</td>\n",
              "      <td>do not they really want target_out_data_native...</td>\n",
              "      <td>do not they really want targetoutdatanativetest</td>\n",
              "      <td>do not they realli want targetoutdatanativetest</td>\n",
              "    </tr>\n",
              "    <tr>\n",
              "      <th>2</th>\n",
              "      <td>99d1f8e4_92b31cea</td>\n",
              "      <td>3</td>\n",
              "      <td>Don't we need to increment 'i' in the else cas...</td>\n",
              "      <td>suggestion</td>\n",
              "      <td>Don't we need to increment 'i' in the else cas...</td>\n",
              "      <td>don't we need to increment 'i' in the else cas...</td>\n",
              "      <td>do not we need to increment 'i' in the else ca...</td>\n",
              "      <td>do not we need to increment 'i' in the else ca...</td>\n",
              "      <td>do not we need to increment 'i' in the else ca...</td>\n",
              "      <td>do not we need to increment i in the else case...</td>\n",
              "      <td>do not we need to increment i in the els case ...</td>\n",
              "    </tr>\n",
              "    <tr>\n",
              "      <th>3</th>\n",
              "      <td>193d089f_f5fac752</td>\n",
              "      <td>4</td>\n",
              "      <td>i can't see anywhere where this is set to fals...</td>\n",
              "      <td>suggestion</td>\n",
              "      <td>should we just adjust the single reference in ...</td>\n",
              "      <td>should we just adjust the single reference in ...</td>\n",
              "      <td>should we just adjust the single reference in ...</td>\n",
              "      <td>should we just adjust the single reference in ...</td>\n",
              "      <td>should we just adjust the single reference in ...</td>\n",
              "      <td>should we just adjust the single reference in ...</td>\n",
              "      <td>should we just adjust the singl refer in bioni...</td>\n",
              "    </tr>\n",
              "    <tr>\n",
              "      <th>4</th>\n",
              "      <td>50c2f81e_ac4fd6fc</td>\n",
              "      <td>5</td>\n",
              "      <td>are you sure you want to include this source f...</td>\n",
              "      <td>criticism</td>\n",
              "      <td>are you sure you want to include this source f...</td>\n",
              "      <td>are you sure you want to include this source f...</td>\n",
              "      <td>are you sure you want to include this source f...</td>\n",
              "      <td>are you sure you want to include this source f...</td>\n",
              "      <td>are you sure you want to include this source f...</td>\n",
              "      <td>are you sure you want to include this source f...</td>\n",
              "      <td>are you sure you want to includ thi sourc file...</td>\n",
              "    </tr>\n",
              "  </tbody>\n",
              "</table>\n",
              "</div>"
            ],
            "text/plain": [
              "   inline-comment-id  ...                                            Stemmed\n",
              "0  84326dd1_566c7146  ...                            is thi what they intend\n",
              "1  84326dd1_566c7146  ...    do not they realli want targetoutdatanativetest\n",
              "2  99d1f8e4_92b31cea  ...  do not we need to increment i in the els case ...\n",
              "3  193d089f_f5fac752  ...  should we just adjust the singl refer in bioni...\n",
              "4  50c2f81e_ac4fd6fc  ...  are you sure you want to includ thi sourc file...\n",
              "\n",
              "[5 rows x 11 columns]"
            ]
          },
          "metadata": {
            "tags": []
          },
          "execution_count": 23
        }
      ]
    },
    {
      "cell_type": "markdown",
      "metadata": {
        "id": "RrPcwOGBWWWY"
      },
      "source": [
        "# Lemmatization"
      ]
    },
    {
      "cell_type": "code",
      "metadata": {
        "colab": {
          "base_uri": "https://localhost:8080/"
        },
        "id": "m3_NlMIkWY8D",
        "outputId": "a609d285-2588-4f3a-a5cd-472140f61580"
      },
      "source": [
        "nlp = spacy.load('en',parse=True,tag=True, entity=True)\n",
        "# function to remove special characters\n",
        "def get_lem(text):\n",
        "    text = nlp(text)\n",
        "    text = ' '.join([word.lemma_ if word.lemma_ != '-PRON-' else word.text for word in text])\n",
        "    return text\n",
        "    \n",
        "# call function\n",
        "get_lem(\"we are eating and swimming ; we have been eating and swimming ; he eats and swims ; he ate and swam \")"
      ],
      "execution_count": null,
      "outputs": [
        {
          "output_type": "execute_result",
          "data": {
            "application/vnd.google.colaboratory.intrinsic+json": {
              "type": "string"
            },
            "text/plain": [
              "'we be eat and swim ; we have be eat and swim ; he eat and swim ; he eat and swam'"
            ]
          },
          "metadata": {
            "tags": []
          },
          "execution_count": 24
        }
      ]
    },
    {
      "cell_type": "code",
      "metadata": {
        "id": "Mm8u7auwWmn_"
      },
      "source": [
        "df[\"Lemmatised\"]=\"\"\n",
        "for i in range(len(df)):\n",
        "    text=df.loc[i,\"Without Punctuations\"]\n",
        "    fin=get_lem(text)\n",
        "    df.loc[i,\"Lemmatised\"]=fin"
      ],
      "execution_count": null,
      "outputs": []
    },
    {
      "cell_type": "code",
      "metadata": {
        "colab": {
          "base_uri": "https://localhost:8080/"
        },
        "id": "TJj6c2zJXIzQ",
        "outputId": "4a247605-e6c8-44e6-a14d-6c9802074032"
      },
      "source": [
        "df.head()"
      ],
      "execution_count": null,
      "outputs": [
        {
          "output_type": "execute_result",
          "data": {
            "text/html": [
              "<div>\n",
              "<style scoped>\n",
              "    .dataframe tbody tr th:only-of-type {\n",
              "        vertical-align: middle;\n",
              "    }\n",
              "\n",
              "    .dataframe tbody tr th {\n",
              "        vertical-align: top;\n",
              "    }\n",
              "\n",
              "    .dataframe thead th {\n",
              "        text-align: right;\n",
              "    }\n",
              "</style>\n",
              "<table border=\"1\" class=\"dataframe\">\n",
              "  <thead>\n",
              "    <tr style=\"text-align: right;\">\n",
              "      <th></th>\n",
              "      <th>inline-comment-id</th>\n",
              "      <th># Comment</th>\n",
              "      <th>Question</th>\n",
              "      <th>Final Label</th>\n",
              "      <th>Main Question Words</th>\n",
              "      <th>Lower Question Words</th>\n",
              "      <th>Without Apostrophes</th>\n",
              "      <th>Without SpecialChars</th>\n",
              "      <th>Without Numbers</th>\n",
              "      <th>Without Punctuations</th>\n",
              "      <th>Stemmed</th>\n",
              "      <th>Lemmatised</th>\n",
              "    </tr>\n",
              "  </thead>\n",
              "  <tbody>\n",
              "    <tr>\n",
              "      <th>0</th>\n",
              "      <td>84326dd1_566c7146</td>\n",
              "      <td>1</td>\n",
              "      <td>is this what they intended? don't they really ...</td>\n",
              "      <td>request for confirmation</td>\n",
              "      <td>is this what they intended?</td>\n",
              "      <td>is this what they intended?</td>\n",
              "      <td>is this what they intended?</td>\n",
              "      <td>is this what they intended?</td>\n",
              "      <td>is this what they intended?</td>\n",
              "      <td>is this what they intended</td>\n",
              "      <td>is thi what they intend</td>\n",
              "      <td>be this what they intend</td>\n",
              "    </tr>\n",
              "    <tr>\n",
              "      <th>1</th>\n",
              "      <td>84326dd1_566c7146</td>\n",
              "      <td>2</td>\n",
              "      <td>is this what they intended? don't they really ...</td>\n",
              "      <td>surprise</td>\n",
              "      <td>don't they really want $(TARGET_OUT_DATA_NATIV...</td>\n",
              "      <td>don't they really want $(target_out_data_nativ...</td>\n",
              "      <td>do not they really want $(target_out_data_nati...</td>\n",
              "      <td>do not they really want target_out_data_native...</td>\n",
              "      <td>do not they really want target_out_data_native...</td>\n",
              "      <td>do not they really want targetoutdatanativetest</td>\n",
              "      <td>do not they realli want targetoutdatanativetest</td>\n",
              "      <td>do not they really want targetoutdatanativetest</td>\n",
              "    </tr>\n",
              "    <tr>\n",
              "      <th>2</th>\n",
              "      <td>99d1f8e4_92b31cea</td>\n",
              "      <td>3</td>\n",
              "      <td>Don't we need to increment 'i' in the else cas...</td>\n",
              "      <td>suggestion</td>\n",
              "      <td>Don't we need to increment 'i' in the else cas...</td>\n",
              "      <td>don't we need to increment 'i' in the else cas...</td>\n",
              "      <td>do not we need to increment 'i' in the else ca...</td>\n",
              "      <td>do not we need to increment 'i' in the else ca...</td>\n",
              "      <td>do not we need to increment 'i' in the else ca...</td>\n",
              "      <td>do not we need to increment i in the else case...</td>\n",
              "      <td>do not we need to increment i in the els case ...</td>\n",
              "      <td>do not we need to increment i in the else case...</td>\n",
              "    </tr>\n",
              "    <tr>\n",
              "      <th>3</th>\n",
              "      <td>193d089f_f5fac752</td>\n",
              "      <td>4</td>\n",
              "      <td>i can't see anywhere where this is set to fals...</td>\n",
              "      <td>suggestion</td>\n",
              "      <td>should we just adjust the single reference in ...</td>\n",
              "      <td>should we just adjust the single reference in ...</td>\n",
              "      <td>should we just adjust the single reference in ...</td>\n",
              "      <td>should we just adjust the single reference in ...</td>\n",
              "      <td>should we just adjust the single reference in ...</td>\n",
              "      <td>should we just adjust the single reference in ...</td>\n",
              "      <td>should we just adjust the singl refer in bioni...</td>\n",
              "      <td>should we just adjust the single reference in ...</td>\n",
              "    </tr>\n",
              "    <tr>\n",
              "      <th>4</th>\n",
              "      <td>50c2f81e_ac4fd6fc</td>\n",
              "      <td>5</td>\n",
              "      <td>are you sure you want to include this source f...</td>\n",
              "      <td>criticism</td>\n",
              "      <td>are you sure you want to include this source f...</td>\n",
              "      <td>are you sure you want to include this source f...</td>\n",
              "      <td>are you sure you want to include this source f...</td>\n",
              "      <td>are you sure you want to include this source f...</td>\n",
              "      <td>are you sure you want to include this source f...</td>\n",
              "      <td>are you sure you want to include this source f...</td>\n",
              "      <td>are you sure you want to includ thi sourc file...</td>\n",
              "      <td>be you sure you want to include this source fi...</td>\n",
              "    </tr>\n",
              "  </tbody>\n",
              "</table>\n",
              "</div>"
            ],
            "text/plain": [
              "   inline-comment-id  ...                                         Lemmatised\n",
              "0  84326dd1_566c7146  ...                           be this what they intend\n",
              "1  84326dd1_566c7146  ...    do not they really want targetoutdatanativetest\n",
              "2  99d1f8e4_92b31cea  ...  do not we need to increment i in the else case...\n",
              "3  193d089f_f5fac752  ...  should we just adjust the single reference in ...\n",
              "4  50c2f81e_ac4fd6fc  ...  be you sure you want to include this source fi...\n",
              "\n",
              "[5 rows x 12 columns]"
            ]
          },
          "metadata": {
            "tags": []
          },
          "execution_count": 26
        }
      ]
    },
    {
      "cell_type": "markdown",
      "metadata": {
        "id": "rk6FJcrEXgHM"
      },
      "source": [
        "# Removing Stopwords"
      ]
    },
    {
      "cell_type": "code",
      "metadata": {
        "colab": {
          "base_uri": "https://localhost:8080/"
        },
        "id": "PimThC-mXjVn",
        "outputId": "a3ea1009-2ef4-4ae1-f61a-c1f63cd2c799"
      },
      "source": [
        "\n",
        "tokenizer = ToktokTokenizer()\n",
        "stopword_list = nltk.corpus.stopwords.words('english')\n",
        "# custom: removing words from list\n",
        "stopword_list.remove('not')\n",
        "\n",
        "# function to remove stopwords\n",
        "def remove_stopwords(text):\n",
        "    # convert sentence into token of words\n",
        "    tokens = tokenizer.tokenize(text)\n",
        "    tokens = [token.strip() for token in tokens]\n",
        "    # check in lowercase \n",
        "    t = [token for token in tokens if token.lower() not in stopword_list]\n",
        "    text = ' '.join(t)    \n",
        "    return text\n",
        "    \n",
        "# call function\n",
        "remove_stopwords(\"i am myself you the stopwords list and this article is not should removed\")"
      ],
      "execution_count": null,
      "outputs": [
        {
          "output_type": "execute_result",
          "data": {
            "application/vnd.google.colaboratory.intrinsic+json": {
              "type": "string"
            },
            "text/plain": [
              "'stopwords list article not removed'"
            ]
          },
          "metadata": {
            "tags": []
          },
          "execution_count": 27
        }
      ]
    },
    {
      "cell_type": "code",
      "metadata": {
        "id": "XercaVwz6Flb"
      },
      "source": [
        "df[\"Without Stopwords\"]=\"\"\n",
        "for i in range(len(df)):\n",
        "    text=df.loc[i,'Lemmatised']\n",
        "    fin2=remove_stopwords(text)\n",
        "    df.loc[i,'Without Stopwords']=fin2"
      ],
      "execution_count": null,
      "outputs": []
    },
    {
      "cell_type": "code",
      "metadata": {
        "colab": {
          "base_uri": "https://localhost:8080/"
        },
        "id": "vqXTJlDp7Pvh",
        "outputId": "9df19eb1-9dd9-4ae2-a05a-22234379cbed"
      },
      "source": [
        "df.head()"
      ],
      "execution_count": null,
      "outputs": [
        {
          "output_type": "execute_result",
          "data": {
            "text/html": [
              "<div>\n",
              "<style scoped>\n",
              "    .dataframe tbody tr th:only-of-type {\n",
              "        vertical-align: middle;\n",
              "    }\n",
              "\n",
              "    .dataframe tbody tr th {\n",
              "        vertical-align: top;\n",
              "    }\n",
              "\n",
              "    .dataframe thead th {\n",
              "        text-align: right;\n",
              "    }\n",
              "</style>\n",
              "<table border=\"1\" class=\"dataframe\">\n",
              "  <thead>\n",
              "    <tr style=\"text-align: right;\">\n",
              "      <th></th>\n",
              "      <th>inline-comment-id</th>\n",
              "      <th># Comment</th>\n",
              "      <th>Question</th>\n",
              "      <th>Final Label</th>\n",
              "      <th>Main Question Words</th>\n",
              "      <th>Lower Question Words</th>\n",
              "      <th>Without Apostrophes</th>\n",
              "      <th>Without SpecialChars</th>\n",
              "      <th>Without Numbers</th>\n",
              "      <th>Without Punctuations</th>\n",
              "      <th>Stemmed</th>\n",
              "      <th>Lemmatised</th>\n",
              "      <th>Without Stopwords</th>\n",
              "    </tr>\n",
              "  </thead>\n",
              "  <tbody>\n",
              "    <tr>\n",
              "      <th>0</th>\n",
              "      <td>84326dd1_566c7146</td>\n",
              "      <td>1</td>\n",
              "      <td>is this what they intended? don't they really ...</td>\n",
              "      <td>request for confirmation</td>\n",
              "      <td>is this what they intended?</td>\n",
              "      <td>is this what they intended?</td>\n",
              "      <td>is this what they intended?</td>\n",
              "      <td>is this what they intended?</td>\n",
              "      <td>is this what they intended?</td>\n",
              "      <td>is this what they intended</td>\n",
              "      <td>is thi what they intend</td>\n",
              "      <td>be this what they intend</td>\n",
              "      <td>intend</td>\n",
              "    </tr>\n",
              "    <tr>\n",
              "      <th>1</th>\n",
              "      <td>84326dd1_566c7146</td>\n",
              "      <td>2</td>\n",
              "      <td>is this what they intended? don't they really ...</td>\n",
              "      <td>surprise</td>\n",
              "      <td>don't they really want $(TARGET_OUT_DATA_NATIV...</td>\n",
              "      <td>don't they really want $(target_out_data_nativ...</td>\n",
              "      <td>do not they really want $(target_out_data_nati...</td>\n",
              "      <td>do not they really want target_out_data_native...</td>\n",
              "      <td>do not they really want target_out_data_native...</td>\n",
              "      <td>do not they really want targetoutdatanativetest</td>\n",
              "      <td>do not they realli want targetoutdatanativetest</td>\n",
              "      <td>do not they really want targetoutdatanativetest</td>\n",
              "      <td>not really want targetoutdatanativetest</td>\n",
              "    </tr>\n",
              "    <tr>\n",
              "      <th>2</th>\n",
              "      <td>99d1f8e4_92b31cea</td>\n",
              "      <td>3</td>\n",
              "      <td>Don't we need to increment 'i' in the else cas...</td>\n",
              "      <td>suggestion</td>\n",
              "      <td>Don't we need to increment 'i' in the else cas...</td>\n",
              "      <td>don't we need to increment 'i' in the else cas...</td>\n",
              "      <td>do not we need to increment 'i' in the else ca...</td>\n",
              "      <td>do not we need to increment 'i' in the else ca...</td>\n",
              "      <td>do not we need to increment 'i' in the else ca...</td>\n",
              "      <td>do not we need to increment i in the else case...</td>\n",
              "      <td>do not we need to increment i in the els case ...</td>\n",
              "      <td>do not we need to increment i in the else case...</td>\n",
              "      <td>not need increment else case avoid infinite loop</td>\n",
              "    </tr>\n",
              "    <tr>\n",
              "      <th>3</th>\n",
              "      <td>193d089f_f5fac752</td>\n",
              "      <td>4</td>\n",
              "      <td>i can't see anywhere where this is set to fals...</td>\n",
              "      <td>suggestion</td>\n",
              "      <td>should we just adjust the single reference in ...</td>\n",
              "      <td>should we just adjust the single reference in ...</td>\n",
              "      <td>should we just adjust the single reference in ...</td>\n",
              "      <td>should we just adjust the single reference in ...</td>\n",
              "      <td>should we just adjust the single reference in ...</td>\n",
              "      <td>should we just adjust the single reference in ...</td>\n",
              "      <td>should we just adjust the singl refer in bioni...</td>\n",
              "      <td>should we just adjust the single reference in ...</td>\n",
              "      <td>adjust single reference bionic remove</td>\n",
              "    </tr>\n",
              "    <tr>\n",
              "      <th>4</th>\n",
              "      <td>50c2f81e_ac4fd6fc</td>\n",
              "      <td>5</td>\n",
              "      <td>are you sure you want to include this source f...</td>\n",
              "      <td>criticism</td>\n",
              "      <td>are you sure you want to include this source f...</td>\n",
              "      <td>are you sure you want to include this source f...</td>\n",
              "      <td>are you sure you want to include this source f...</td>\n",
              "      <td>are you sure you want to include this source f...</td>\n",
              "      <td>are you sure you want to include this source f...</td>\n",
              "      <td>are you sure you want to include this source f...</td>\n",
              "      <td>are you sure you want to includ thi sourc file...</td>\n",
              "      <td>be you sure you want to include this source fi...</td>\n",
              "      <td>sure want include source file directly</td>\n",
              "    </tr>\n",
              "  </tbody>\n",
              "</table>\n",
              "</div>"
            ],
            "text/plain": [
              "   inline-comment-id  ...                                 Without Stopwords\n",
              "0  84326dd1_566c7146  ...                                            intend\n",
              "1  84326dd1_566c7146  ...           not really want targetoutdatanativetest\n",
              "2  99d1f8e4_92b31cea  ...  not need increment else case avoid infinite loop\n",
              "3  193d089f_f5fac752  ...             adjust single reference bionic remove\n",
              "4  50c2f81e_ac4fd6fc  ...            sure want include source file directly\n",
              "\n",
              "[5 rows x 13 columns]"
            ]
          },
          "metadata": {
            "tags": []
          },
          "execution_count": 29
        }
      ]
    },
    {
      "cell_type": "markdown",
      "metadata": {
        "id": "xm-48SGu7ZT0"
      },
      "source": [
        "# Removal of whitespaces and tabs"
      ]
    },
    {
      "cell_type": "code",
      "metadata": {
        "colab": {
          "base_uri": "https://localhost:8080/"
        },
        "id": "gOXYRc_C7csd",
        "outputId": "fb01f69f-f601-4b92-e8ea-725ca5ece7e8"
      },
      "source": [
        "# function to remove special characters\n",
        "def remove_extra_whitespace_tabs(text):\n",
        "    #pattern = r'^\\s+$|\\s+$'\n",
        "    pattern = r'^\\s*|\\s\\s*'\n",
        "    return re.sub(pattern, ' ', text).strip()\n",
        "    \n",
        "# call function\n",
        "remove_extra_whitespace_tabs('  This web line  has \\t some extra  \\t   tabs and whitespaces  ')"
      ],
      "execution_count": null,
      "outputs": [
        {
          "output_type": "execute_result",
          "data": {
            "application/vnd.google.colaboratory.intrinsic+json": {
              "type": "string"
            },
            "text/plain": [
              "'This web line has some extra tabs and whitespaces'"
            ]
          },
          "metadata": {
            "tags": []
          },
          "execution_count": 30
        }
      ]
    },
    {
      "cell_type": "code",
      "metadata": {
        "id": "0b6fyJQH7vWw"
      },
      "source": [
        "df['Without Extra Spaces']=\"\"\n",
        "for i in range(len(df)):\n",
        "    text=df.loc[i,\"Without Stopwords\"]\n",
        "    fin3=remove_extra_whitespace_tabs(text)\n",
        "    df.loc[i,\"Without Extra Spaces\"]=fin3"
      ],
      "execution_count": null,
      "outputs": []
    },
    {
      "cell_type": "code",
      "metadata": {
        "colab": {
          "base_uri": "https://localhost:8080/"
        },
        "id": "w8AeN-a-8Die",
        "outputId": "d60c2417-f87f-4a0e-c328-23242457b44f"
      },
      "source": [
        "df.head()"
      ],
      "execution_count": null,
      "outputs": [
        {
          "output_type": "execute_result",
          "data": {
            "text/html": [
              "<div>\n",
              "<style scoped>\n",
              "    .dataframe tbody tr th:only-of-type {\n",
              "        vertical-align: middle;\n",
              "    }\n",
              "\n",
              "    .dataframe tbody tr th {\n",
              "        vertical-align: top;\n",
              "    }\n",
              "\n",
              "    .dataframe thead th {\n",
              "        text-align: right;\n",
              "    }\n",
              "</style>\n",
              "<table border=\"1\" class=\"dataframe\">\n",
              "  <thead>\n",
              "    <tr style=\"text-align: right;\">\n",
              "      <th></th>\n",
              "      <th>inline-comment-id</th>\n",
              "      <th># Comment</th>\n",
              "      <th>Question</th>\n",
              "      <th>Final Label</th>\n",
              "      <th>Main Question Words</th>\n",
              "      <th>Lower Question Words</th>\n",
              "      <th>Without Apostrophes</th>\n",
              "      <th>Without SpecialChars</th>\n",
              "      <th>Without Numbers</th>\n",
              "      <th>Without Punctuations</th>\n",
              "      <th>Stemmed</th>\n",
              "      <th>Lemmatised</th>\n",
              "      <th>Without Stopwords</th>\n",
              "      <th>Without Extra Spaces</th>\n",
              "    </tr>\n",
              "  </thead>\n",
              "  <tbody>\n",
              "    <tr>\n",
              "      <th>0</th>\n",
              "      <td>84326dd1_566c7146</td>\n",
              "      <td>1</td>\n",
              "      <td>is this what they intended? don't they really ...</td>\n",
              "      <td>request for confirmation</td>\n",
              "      <td>is this what they intended?</td>\n",
              "      <td>is this what they intended?</td>\n",
              "      <td>is this what they intended?</td>\n",
              "      <td>is this what they intended?</td>\n",
              "      <td>is this what they intended?</td>\n",
              "      <td>is this what they intended</td>\n",
              "      <td>is thi what they intend</td>\n",
              "      <td>be this what they intend</td>\n",
              "      <td>intend</td>\n",
              "      <td>intend</td>\n",
              "    </tr>\n",
              "    <tr>\n",
              "      <th>1</th>\n",
              "      <td>84326dd1_566c7146</td>\n",
              "      <td>2</td>\n",
              "      <td>is this what they intended? don't they really ...</td>\n",
              "      <td>surprise</td>\n",
              "      <td>don't they really want $(TARGET_OUT_DATA_NATIV...</td>\n",
              "      <td>don't they really want $(target_out_data_nativ...</td>\n",
              "      <td>do not they really want $(target_out_data_nati...</td>\n",
              "      <td>do not they really want target_out_data_native...</td>\n",
              "      <td>do not they really want target_out_data_native...</td>\n",
              "      <td>do not they really want targetoutdatanativetest</td>\n",
              "      <td>do not they realli want targetoutdatanativetest</td>\n",
              "      <td>do not they really want targetoutdatanativetest</td>\n",
              "      <td>not really want targetoutdatanativetest</td>\n",
              "      <td>not really want targetoutdatanativetest</td>\n",
              "    </tr>\n",
              "    <tr>\n",
              "      <th>2</th>\n",
              "      <td>99d1f8e4_92b31cea</td>\n",
              "      <td>3</td>\n",
              "      <td>Don't we need to increment 'i' in the else cas...</td>\n",
              "      <td>suggestion</td>\n",
              "      <td>Don't we need to increment 'i' in the else cas...</td>\n",
              "      <td>don't we need to increment 'i' in the else cas...</td>\n",
              "      <td>do not we need to increment 'i' in the else ca...</td>\n",
              "      <td>do not we need to increment 'i' in the else ca...</td>\n",
              "      <td>do not we need to increment 'i' in the else ca...</td>\n",
              "      <td>do not we need to increment i in the else case...</td>\n",
              "      <td>do not we need to increment i in the els case ...</td>\n",
              "      <td>do not we need to increment i in the else case...</td>\n",
              "      <td>not need increment else case avoid infinite loop</td>\n",
              "      <td>not need increment else case avoid infinite loop</td>\n",
              "    </tr>\n",
              "    <tr>\n",
              "      <th>3</th>\n",
              "      <td>193d089f_f5fac752</td>\n",
              "      <td>4</td>\n",
              "      <td>i can't see anywhere where this is set to fals...</td>\n",
              "      <td>suggestion</td>\n",
              "      <td>should we just adjust the single reference in ...</td>\n",
              "      <td>should we just adjust the single reference in ...</td>\n",
              "      <td>should we just adjust the single reference in ...</td>\n",
              "      <td>should we just adjust the single reference in ...</td>\n",
              "      <td>should we just adjust the single reference in ...</td>\n",
              "      <td>should we just adjust the single reference in ...</td>\n",
              "      <td>should we just adjust the singl refer in bioni...</td>\n",
              "      <td>should we just adjust the single reference in ...</td>\n",
              "      <td>adjust single reference bionic remove</td>\n",
              "      <td>adjust single reference bionic remove</td>\n",
              "    </tr>\n",
              "    <tr>\n",
              "      <th>4</th>\n",
              "      <td>50c2f81e_ac4fd6fc</td>\n",
              "      <td>5</td>\n",
              "      <td>are you sure you want to include this source f...</td>\n",
              "      <td>criticism</td>\n",
              "      <td>are you sure you want to include this source f...</td>\n",
              "      <td>are you sure you want to include this source f...</td>\n",
              "      <td>are you sure you want to include this source f...</td>\n",
              "      <td>are you sure you want to include this source f...</td>\n",
              "      <td>are you sure you want to include this source f...</td>\n",
              "      <td>are you sure you want to include this source f...</td>\n",
              "      <td>are you sure you want to includ thi sourc file...</td>\n",
              "      <td>be you sure you want to include this source fi...</td>\n",
              "      <td>sure want include source file directly</td>\n",
              "      <td>sure want include source file directly</td>\n",
              "    </tr>\n",
              "  </tbody>\n",
              "</table>\n",
              "</div>"
            ],
            "text/plain": [
              "   inline-comment-id  ...                              Without Extra Spaces\n",
              "0  84326dd1_566c7146  ...                                            intend\n",
              "1  84326dd1_566c7146  ...           not really want targetoutdatanativetest\n",
              "2  99d1f8e4_92b31cea  ...  not need increment else case avoid infinite loop\n",
              "3  193d089f_f5fac752  ...             adjust single reference bionic remove\n",
              "4  50c2f81e_ac4fd6fc  ...            sure want include source file directly\n",
              "\n",
              "[5 rows x 14 columns]"
            ]
          },
          "metadata": {
            "tags": []
          },
          "execution_count": 32
        }
      ]
    },
    {
      "cell_type": "markdown",
      "metadata": {
        "id": "NEr4q_aOY8wK"
      },
      "source": [
        "# Visualization of most occuring words"
      ]
    },
    {
      "cell_type": "code",
      "metadata": {
        "colab": {
          "base_uri": "https://localhost:8080/"
        },
        "id": "4WFQCC9ycvUl",
        "outputId": "3241a987-2ea5-4a49-8926-e07060eced9f"
      },
      "source": [
        "\n",
        "\n",
        "our_words = df['Without Extra Spaces'].str.cat(sep=' ')\n",
        "\n",
        "#function to split text into word\n",
        "tokens = word_tokenize(our_words)\n",
        "\n",
        "vocabulary = set(tokens)\n",
        "print(len(vocabulary))\n",
        "\n",
        "frequency_dist = nltk.FreqDist(tokens)\n",
        "lis=sorted(frequency_dist,key=frequency_dist.__getitem__, reverse=True)[0:50]\n",
        "lis3=sorted(frequency_dist,key=frequency_dist.__getitem__, reverse=True)\n",
        "lis"
      ],
      "execution_count": null,
      "outputs": [
        {
          "output_type": "stream",
          "text": [
            "940\n"
          ],
          "name": "stdout"
        },
        {
          "output_type": "execute_result",
          "data": {
            "text/plain": [
              "['not',\n",
              " 'use',\n",
              " 'need',\n",
              " 'add',\n",
              " 'make',\n",
              " 'test',\n",
              " 'would',\n",
              " 'comment',\n",
              " 'could',\n",
              " 'file',\n",
              " 'call',\n",
              " 'check',\n",
              " 'one',\n",
              " 'maybe',\n",
              " 'well',\n",
              " 'code',\n",
              " 'instead',\n",
              " 'remove',\n",
              " 'really',\n",
              " 'want',\n",
              " 'think',\n",
              " 'like',\n",
              " 'function',\n",
              " 'return',\n",
              " 'change',\n",
              " 'set',\n",
              " 'line',\n",
              " 'method',\n",
              " 'work',\n",
              " 'static',\n",
              " 'go',\n",
              " 'move',\n",
              " 'mean',\n",
              " 'reason',\n",
              " 'type',\n",
              " 'case',\n",
              " 'way',\n",
              " 'possible',\n",
              " 'get',\n",
              " 'right',\n",
              " 'read',\n",
              " 'value',\n",
              " 'also',\n",
              " 'const',\n",
              " 'error',\n",
              " 'say',\n",
              " 'new',\n",
              " 'still',\n",
              " 'always',\n",
              " 'name']"
            ]
          },
          "metadata": {
            "tags": []
          },
          "execution_count": 33
        }
      ]
    },
    {
      "cell_type": "code",
      "metadata": {
        "colab": {
          "base_uri": "https://localhost:8080/",
          "height": 357
        },
        "id": "4wPbPxSpdgrU",
        "outputId": "7af12b35-4da8-4783-b9b7-ee383e37d7a8"
      },
      "source": [
        "\n",
        "x, y = np.unique(lis, return_counts=True)\n",
        "plt.figure(figsize=(10,5))\n",
        "plt.scatter(x,y)\n",
        "plt.xticks(rotation=90)\n",
        "plt.show()"
      ],
      "execution_count": null,
      "outputs": [
        {
          "output_type": "display_data",
          "data": {
            "image/png": "[encoded data removed]",
            "text/plain": [
              "<Figure size 720x360 with 1 Axes>"
            ]
          },
          "metadata": {
            "tags": [],
            "needs_background": "light"
          }
        }
      ]
    },
    {
      "cell_type": "code",
      "metadata": {
        "colab": {
          "base_uri": "https://localhost:8080/",
          "height": 382
        },
        "id": "SQNpy3jYfd-C",
        "outputId": "57ba9e1d-692c-42a2-fa8b-7b2c22a0ae1c"
      },
      "source": [
        "#wordcloud=WordCloud().generate_from_frequencies(frequency_dist)\n",
        "\n",
        "wordcloud = WordCloud (\n",
        "                    background_color = 'white',\n",
        "                    #width = 1000,\n",
        "                    #height = 500\n",
        "                        ).generate(' '.join(lis))\n",
        "plt.figure(figsize=(12,12))\n",
        "plt.imshow(wordcloud) \n",
        "plt.axis('off') \n",
        "plt.title(\"The top 50 most occuring words in the Question Review Dataset\")\n",
        "plt.show()\n",
        "\n",
        "#plt.figure(figsize=(10,8))\n",
        "#plt.imshow(wordcloud)\n",
        "#plt.axis(\"off\")\n",
        "#plt.show()"
      ],
      "execution_count": null,
      "outputs": [
        {
          "output_type": "display_data",
          "data": {
            "image/png": "[encoded data removed]",
            "text/plain": [
              "<Figure size 864x864 with 1 Axes>"
            ]
          },
          "metadata": {
            "tags": [],
            "needs_background": "light"
          }
        }
      ]
    },
    {
      "cell_type": "markdown",
      "metadata": {
        "id": "XPV5Xpx6erhc"
      },
      "source": [
        "# Data Splitting"
      ]
    },
    {
      "cell_type": "code",
      "metadata": {
        "id": "T7kUAI5rw_N8"
      },
      "source": [
        "#df.loc[0,'Question']"
      ],
      "execution_count": null,
      "outputs": []
    },
    {
      "cell_type": "code",
      "metadata": {
        "id": "At2Kt7WTyUQM"
      },
      "source": [
        "#df['Question']=df['Question'].map(lambda x: x.rstrip('\\n'))"
      ],
      "execution_count": null,
      "outputs": []
    },
    {
      "cell_type": "code",
      "metadata": {
        "id": "9jpACYfXyztf"
      },
      "source": [
        "#df.loc[85,'Question']"
      ],
      "execution_count": null,
      "outputs": []
    },
    {
      "cell_type": "code",
      "metadata": {
        "id": "5n6B84-NCqXZ"
      },
      "source": [
        "#df.loc[0,'Main Question Words']"
      ],
      "execution_count": null,
      "outputs": []
    },
    {
      "cell_type": "code",
      "metadata": {
        "id": "yeEfAAJSTABb"
      },
      "source": [
        "#X=df[['inline-comment-id','Main Question Words','Final Label']]\n",
        "#y=df[['inline-comment-id','Final Label']]\n",
        "#X_train, X_test, y_train, y_test = train_test_split(X,y, test_size=0.2, random_state=3)\n",
        "#print(X_train.shape)\n",
        "#print(X_test.shape)\n",
        "#print(y_train.shape)\n",
        "#print(y_test.shape)"
      ],
      "execution_count": null,
      "outputs": []
    },
    {
      "cell_type": "code",
      "metadata": {
        "colab": {
          "base_uri": "https://localhost:8080/"
        },
        "id": "alRLo_RujKou",
        "outputId": "15ac5e2d-38fd-499e-d2f4-a9db0afd0bf4"
      },
      "source": [
        "len(frequency_dist)"
      ],
      "execution_count": null,
      "outputs": [
        {
          "output_type": "execute_result",
          "data": {
            "text/plain": [
              "940"
            ]
          },
          "metadata": {
            "tags": []
          },
          "execution_count": 41
        }
      ]
    },
    {
      "cell_type": "markdown",
      "metadata": {
        "id": "wY6tXYOakTHu"
      },
      "source": [
        "**Data splitting**"
      ]
    },
    {
      "cell_type": "code",
      "metadata": {
        "id": "JZfdtMbRjSXX"
      },
      "source": [
        "X_train=df.loc[:399,'Without Extra Spaces'].values\n",
        "y_train=df.loc[:399,'Final Label'].values\n",
        "X_test=df.loc[400:,'Without Extra Spaces'].values\n",
        "y_test=df.loc[400:,'Final Label'].values"
      ],
      "execution_count": null,
      "outputs": []
    },
    {
      "cell_type": "markdown",
      "metadata": {
        "id": "jHSdzg4zbRM7"
      },
      "source": [
        "# TF-IDF Classifier"
      ]
    },
    {
      "cell_type": "markdown",
      "metadata": {
        "id": "xQBtACFVkVH5"
      },
      "source": [
        "**Model fitting**"
      ]
    },
    {
      "cell_type": "code",
      "metadata": {
        "colab": {
          "base_uri": "https://localhost:8080/"
        },
        "id": "1u-sBsQUkXcP",
        "outputId": "71c46f84-e7fd-4743-b6b7-276ec8cde996"
      },
      "source": [
        "\n",
        "vectorizer=TfidfVectorizer()\n",
        "train_vectors=vectorizer.fit_transform(X_train)\n",
        "test_vectors=vectorizer.transform(X_test)\n",
        "print(train_vectors.shape, test_vectors.shape)"
      ],
      "execution_count": null,
      "outputs": [
        {
          "output_type": "stream",
          "text": [
            "(400, 802) (99, 802)\n"
          ],
          "name": "stdout"
        }
      ]
    },
    {
      "cell_type": "code",
      "metadata": {
        "id": "_NqThD83nzns"
      },
      "source": [
        "\n",
        "\n",
        "classy=MultinomialNB().fit(train_vectors,y_train)"
      ],
      "execution_count": null,
      "outputs": []
    },
    {
      "cell_type": "code",
      "metadata": {
        "colab": {
          "base_uri": "https://localhost:8080/"
        },
        "id": "YVSPZeRUpCca",
        "outputId": "a8efcae0-b1c8-4e41-d896-106e1cb8c0b6"
      },
      "source": [
        "\n",
        "predicted = classy.predict(test_vectors)\n",
        "print(accuracy_score(y_test,predicted))"
      ],
      "execution_count": null,
      "outputs": [
        {
          "output_type": "stream",
          "text": [
            "0.36363636363636365\n"
          ],
          "name": "stdout"
        }
      ]
    },
    {
      "cell_type": "markdown",
      "metadata": {
        "id": "4S-aTthbp0O-"
      },
      "source": [
        "### Hyperparameter tuning"
      ]
    },
    {
      "cell_type": "markdown",
      "metadata": {
        "id": "WitfS4ryp7Tf"
      },
      "source": [
        "**Data splitting**"
      ]
    },
    {
      "cell_type": "code",
      "metadata": {
        "id": "0S-SN8eQp7To"
      },
      "source": [
        "X=df['Without Extra Spaces']\n",
        "y=df['Final Label']\n",
        "X_train, X_test, y_train, y_test = train_test_split(X,y, test_size=0.2, random_state=8)\n",
        "#print(X_train.shape)\n",
        "#print(X_test.shape)\n",
        "#print(y_train.shape)\n",
        "#print(y_test.shape)"
      ],
      "execution_count": null,
      "outputs": []
    },
    {
      "cell_type": "markdown",
      "metadata": {
        "id": "T41CmzdAp7To"
      },
      "source": [
        "**Model fitting**"
      ]
    },
    {
      "cell_type": "code",
      "metadata": {
        "colab": {
          "base_uri": "https://localhost:8080/"
        },
        "id": "-NEwaCsYp7Tp",
        "outputId": "9f69c784-b7e7-4bbc-dbb3-783e4f6a45e6"
      },
      "source": [
        "vectorizer=TfidfVectorizer()\n",
        "train_vectors=vectorizer.fit_transform(X_train)\n",
        "test_vectors=vectorizer.transform(X_test)\n",
        "print(train_vectors.shape, test_vectors.shape)"
      ],
      "execution_count": null,
      "outputs": [
        {
          "output_type": "stream",
          "text": [
            "(399, 779) (100, 779)\n"
          ],
          "name": "stdout"
        }
      ]
    },
    {
      "cell_type": "code",
      "metadata": {
        "id": "x_elDnJ4p7Tp"
      },
      "source": [
        "\n",
        "classy=MultinomialNB().fit(train_vectors,y_train)"
      ],
      "execution_count": null,
      "outputs": []
    },
    {
      "cell_type": "code",
      "metadata": {
        "colab": {
          "base_uri": "https://localhost:8080/"
        },
        "id": "Ed-NnqWep7Tq",
        "outputId": "ab18e743-4b44-481c-85b0-50243f72bbd0"
      },
      "source": [
        "\n",
        "predicted = classy.predict(test_vectors)\n",
        "print(accuracy_score(y_test,predicted))"
      ],
      "execution_count": null,
      "outputs": [
        {
          "output_type": "stream",
          "text": [
            "0.4\n"
          ],
          "name": "stdout"
        }
      ]
    },
    {
      "cell_type": "markdown",
      "metadata": {
        "id": "4P6rvT6ekZuq"
      },
      "source": [
        "# KNN"
      ]
    },
    {
      "cell_type": "code",
      "metadata": {
        "colab": {
          "base_uri": "https://localhost:8080/"
        },
        "id": "RX0gtxVcl1RG",
        "outputId": "8113ddd6-aad4-4991-94e0-336be8d5a089"
      },
      "source": [
        "\n",
        "label_encoder=preprocessing.LabelEncoder()\n",
        "df['LabelEncoded']=label_encoder.fit_transform(df['Without Extra Spaces'])\n",
        "df['LabelEncoded'].unique()"
      ],
      "execution_count": null,
      "outputs": [
        {
          "output_type": "execute_result",
          "data": {
            "text/plain": [
              "array([172, 287, 282,  16, 404, 270, 307, 148,  20, 439, 318, 165, 145,\n",
              "       417,  54, 444,  26,  27,  69, 219, 217, 274, 302, 166, 199, 171,\n",
              "       421, 461, 244,  31,  77, 309, 471,  10, 230, 466, 126, 448, 367,\n",
              "        24, 141, 238, 475, 211, 168, 393, 296, 406, 101, 346, 304,  64,\n",
              "       117,  93, 224, 192, 200, 255, 409, 202, 350,  42, 395, 343, 360,\n",
              "       258, 262, 116, 187, 154, 313, 229,  39,  53, 110, 132, 190, 364,\n",
              "        96, 445, 221, 299,  50, 327, 139, 278, 205, 354, 405, 356,  90,\n",
              "       157, 156, 376,  75, 468,  62, 124, 383,  37, 283,  63, 163, 225,\n",
              "         2, 419,  86, 440, 198,  80, 227,   4, 152,  19, 248, 339, 412,\n",
              "       257, 334, 465, 105, 342, 303, 458, 330, 305, 408, 469, 189, 182,\n",
              "        94, 324, 201, 118, 266,   6, 426, 158, 442, 403,  72, 213, 273,\n",
              "       179, 272, 207, 335, 103, 316, 241, 115, 312, 398, 149,  28,  85,\n",
              "       447,  88, 351, 264,  29, 443, 169, 385, 104, 212, 195, 336, 122,\n",
              "        15, 344, 109, 125, 140, 315, 450, 340,  30, 267,  68, 119, 432,\n",
              "       462,  44, 253,  84, 133, 349, 332, 147, 127, 121,  83,  78, 456,\n",
              "       114, 322, 181, 232, 250, 111, 263, 320, 431, 216, 214, 473, 372,\n",
              "        81, 177, 295, 174, 331, 420, 460, 402, 323, 427, 362, 237, 319,\n",
              "        11, 423, 389,  71,  87, 167, 108, 235,  82, 453,  57, 377, 373,\n",
              "       131, 279, 128, 416, 470, 233, 194,  92, 386, 175, 204,  70, 384,\n",
              "       434, 112, 472, 135, 130, 435, 245,   3, 173,  47, 446, 246, 106,\n",
              "        35, 463, 268, 280, 185, 265,  73, 252,  49, 164, 397, 326, 153,\n",
              "       197, 100,  61, 298,   0, 310, 249, 366, 137, 378, 359, 196, 146,\n",
              "       297, 467, 277, 374, 138, 239, 251, 191, 288,  97, 226, 317, 375,\n",
              "       387, 428, 380, 271, 429, 365, 407, 399, 151,  95, 328, 294, 223,\n",
              "       184, 459, 247, 176, 284, 281,  58, 178, 170, 161,  41, 361, 293,\n",
              "       415, 325,  38,  17, 261, 457, 464, 206, 123, 276,  13, 451, 437,\n",
              "       113, 275, 144,   9, 391,  91, 134, 474, 186,  65,  40, 301, 368,\n",
              "       379, 218, 234,  22, 180, 222, 308, 269, 390, 228,  14,  32,  66,\n",
              "       449, 348,   8, 347, 242, 337,  33,   7, 369, 231,  99, 401, 433,\n",
              "        46, 159, 290, 388,  76,  43, 394, 183,  74, 220, 193, 436, 413,\n",
              "       411, 414, 345, 333,  60, 155, 300, 120, 314, 422, 107,  89,  98,\n",
              "         1, 321, 338, 329,  21, 188,  48, 203, 292, 381, 240, 438, 260,\n",
              "       392,   5, 289, 363, 441, 357,  52,  25, 306, 243,  51, 291,  34,\n",
              "       410, 254, 311, 355,  45,  67, 370, 143, 418,  59, 400, 424, 160,\n",
              "       210, 454, 396, 209, 150, 215, 358, 430, 341, 285, 382, 259, 371,\n",
              "       352, 236,  18,  79,  12, 102, 208,  55, 425,  36, 256, 353, 142,\n",
              "       452, 455, 136,  56, 129,  23, 162, 286])"
            ]
          },
          "metadata": {
            "tags": []
          },
          "execution_count": 50
        }
      ]
    },
    {
      "cell_type": "code",
      "metadata": {
        "id": "29L134galNgh"
      },
      "source": [
        "X=df['LabelEncoded']\n",
        "X=np.array(X).reshape(-1,1)\n",
        "y=df['Final Label']\n",
        "X_train, X_test, y_train, y_test = train_test_split(X,y, test_size=0.2, random_state=3)"
      ],
      "execution_count": null,
      "outputs": []
    },
    {
      "cell_type": "code",
      "metadata": {
        "id": "NS-SNHVdkvRw"
      },
      "source": [
        "\n",
        "k_range=range(1,26)\n",
        "#print (type(k_range))\n",
        "scores={}\n",
        "scores_list=[]\n",
        "for k in k_range:\n",
        "  knn = KNeighborsClassifier(n_neighbors=k)\n",
        "  knn.fit(X_train,y_train)\n",
        "  y_pred = knn.predict(X_test)\n",
        "  scores[k]=metrics.accuracy_score(y_test,y_pred)\n",
        "  scores_list.append(metrics.accuracy_score(y_test,y_pred))"
      ],
      "execution_count": null,
      "outputs": []
    },
    {
      "cell_type": "code",
      "metadata": {
        "colab": {
          "base_uri": "https://localhost:8080/",
          "height": 279
        },
        "id": "bD0xa5mvmrf6",
        "outputId": "10a63fc2-581b-4c2c-8d18-3504546abd93"
      },
      "source": [
        "#%matplotlib inline\n",
        "\n",
        "plt.plot(k_range,scores_list)\n",
        "plt.xlabel('Value of K for KNN')\n",
        "plt.ylabel('Testing Accuracy')\n",
        "plt.show()"
      ],
      "execution_count": null,
      "outputs": [
        {
          "output_type": "display_data",
          "data": {
            "image/png": "[encoded data removed]",
            "text/plain": [
              "<Figure size 432x288 with 1 Axes>"
            ]
          },
          "metadata": {
            "tags": [],
            "needs_background": "light"
          }
        }
      ]
    },
    {
      "cell_type": "code",
      "metadata": {
        "colab": {
          "base_uri": "https://localhost:8080/"
        },
        "id": "fydFf8jJm-rr",
        "outputId": "f50c6d80-c12a-481d-b725-4eacf6e09694"
      },
      "source": [
        "knn=KNeighborsClassifier(n_neighbors=3)\n",
        "knn.fit(X,y)"
      ],
      "execution_count": null,
      "outputs": [
        {
          "output_type": "execute_result",
          "data": {
            "text/plain": [
              "KNeighborsClassifier(algorithm='auto', leaf_size=30, metric='minkowski',\n",
              "                     metric_params=None, n_jobs=None, n_neighbors=3, p=2,\n",
              "                     weights='uniform')"
            ]
          },
          "metadata": {
            "tags": []
          },
          "execution_count": 54
        }
      ]
    },
    {
      "cell_type": "code",
      "metadata": {
        "colab": {
          "base_uri": "https://localhost:8080/"
        },
        "id": "9QvWvLolnAL2",
        "outputId": "94eff3fd-b5b5-49b9-f0f0-d0ac723f2e0e"
      },
      "source": [
        "knn.score(X_test,y_test)"
      ],
      "execution_count": null,
      "outputs": [
        {
          "output_type": "execute_result",
          "data": {
            "text/plain": [
              "0.64"
            ]
          },
          "metadata": {
            "tags": []
          },
          "execution_count": 55
        }
      ]
    },
    {
      "cell_type": "markdown",
      "metadata": {
        "id": "hcwTrrs-jedm"
      },
      "source": [
        "# Logistic Regression"
      ]
    },
    {
      "cell_type": "code",
      "metadata": {
        "id": "wejWUG2l9w7x"
      },
      "source": [
        "X=df['LabelEncoded']\n",
        "import numpy as np\n",
        "X=np.array(X).reshape(-1,1)\n",
        "y=df['Final Label']\n",
        "X_train, X_test, y_train, y_test = train_test_split(X,y, test_size=0.2, random_state=10)\n"
      ],
      "execution_count": null,
      "outputs": []
    },
    {
      "cell_type": "code",
      "metadata": {
        "id": "qV0h_YQFjhXT"
      },
      "source": [
        "\n",
        "sc_x = StandardScaler()\n",
        "X_train = sc_x.fit_transform(X_train) \n",
        "X_test = sc_x.transform(X_test)"
      ],
      "execution_count": null,
      "outputs": []
    },
    {
      "cell_type": "code",
      "metadata": {
        "colab": {
          "base_uri": "https://localhost:8080/"
        },
        "id": "BRDl6Rtd9_Fd",
        "outputId": "adcc7e8c-03e5-4ab2-e7b3-25cdbf79750d"
      },
      "source": [
        "\n",
        "classie = LogisticRegression(random_state=0)\n",
        "classie.fit(X_train, y_train)"
      ],
      "execution_count": null,
      "outputs": [
        {
          "output_type": "execute_result",
          "data": {
            "text/plain": [
              "LogisticRegression(C=1.0, class_weight=None, dual=False, fit_intercept=True,\n",
              "                   intercept_scaling=1, l1_ratio=None, max_iter=100,\n",
              "                   multi_class='auto', n_jobs=None, penalty='l2',\n",
              "                   random_state=0, solver='lbfgs', tol=0.0001, verbose=0,\n",
              "                   warm_start=False)"
            ]
          },
          "metadata": {
            "tags": []
          },
          "execution_count": 58
        }
      ]
    },
    {
      "cell_type": "code",
      "metadata": {
        "id": "TNcMjSvB-MY1"
      },
      "source": [
        "y_pred=classie.predict(X_test)"
      ],
      "execution_count": null,
      "outputs": []
    },
    {
      "cell_type": "code",
      "metadata": {
        "colab": {
          "base_uri": "https://localhost:8080/"
        },
        "id": "WvoEsfFY-UQA",
        "outputId": "a6294778-0338-4964-9a93-2562ff90edfb"
      },
      "source": [
        "\n",
        "cm=confusion_matrix(y_test, y_pred)\n",
        "cm"
      ],
      "execution_count": null,
      "outputs": [
        {
          "output_type": "execute_result",
          "data": {
            "text/plain": [
              "array([[ 0,  0,  0,  0,  0,  0,  0,  0,  0,  0,  0,  0,  1,  0],\n",
              "       [ 0,  0,  0,  0,  0,  0,  0,  0,  0,  0,  0,  0,  2,  0],\n",
              "       [ 0,  0,  0,  0,  0,  0,  0,  0,  0,  0,  0,  0,  6,  0],\n",
              "       [ 0,  0,  0,  0,  0,  0,  0,  0,  0,  0,  0,  0,  2,  0],\n",
              "       [ 0,  0,  0,  0,  0,  0,  0,  0,  0,  0,  0,  0,  3,  0],\n",
              "       [ 0,  0,  0,  0,  0,  0,  0,  0,  0,  0,  0,  0,  4,  0],\n",
              "       [ 0,  0,  0,  0,  0,  0,  0,  0,  0,  0,  0,  0,  4,  0],\n",
              "       [ 0,  0,  0,  0,  0,  0,  0,  0,  0,  0,  0,  0, 16,  0],\n",
              "       [ 0,  0,  0,  0,  0,  0,  0,  0,  0,  0,  0,  0, 15,  0],\n",
              "       [ 0,  0,  0,  0,  0,  0,  0,  0,  0,  0,  0,  0,  3,  0],\n",
              "       [ 0,  0,  0,  0,  0,  0,  0,  0,  0,  0,  0,  0,  9,  0],\n",
              "       [ 0,  0,  0,  0,  0,  0,  0,  0,  0,  0,  0,  0,  1,  0],\n",
              "       [ 0,  0,  0,  0,  0,  0,  0,  0,  0,  0,  0,  0, 33,  0],\n",
              "       [ 0,  0,  0,  0,  0,  0,  0,  0,  0,  0,  0,  0,  1,  0]])"
            ]
          },
          "metadata": {
            "tags": []
          },
          "execution_count": 60
        }
      ]
    },
    {
      "cell_type": "code",
      "metadata": {
        "colab": {
          "base_uri": "https://localhost:8080/"
        },
        "id": "sHmKBJCe-_Ok",
        "outputId": "e08f5500-71a8-4453-c657-6778205180b1"
      },
      "source": [
        "accuracy_score(y_test, y_pred)"
      ],
      "execution_count": null,
      "outputs": [
        {
          "output_type": "execute_result",
          "data": {
            "text/plain": [
              "0.33"
            ]
          },
          "metadata": {
            "tags": []
          },
          "execution_count": 61
        }
      ]
    },
    {
      "cell_type": "markdown",
      "metadata": {
        "id": "eSom4Qq5b1Mx"
      },
      "source": [
        "# XGBoost Classifier"
      ]
    },
    {
      "cell_type": "code",
      "metadata": {
        "id": "j7jq-h1Xb7J0"
      },
      "source": [
        "from xgboost import XGBClassifier"
      ],
      "execution_count": null,
      "outputs": []
    },
    {
      "cell_type": "code",
      "metadata": {
        "id": "hbpq6Klpb5hC"
      },
      "source": [
        "X=df.loc[:,'Without Extra Spaces']\n",
        "#X=df.loc[:,:]\n",
        "#y=df.iloc[:,-1]\n",
        "y=df.loc[:,'Final Label']\n",
        "X_train, X_test, y_train, y_test = train_test_split(X,y, test_size=0.3, random_state=3)"
      ],
      "execution_count": null,
      "outputs": []
    },
    {
      "cell_type": "code",
      "metadata": {
        "colab": {
          "base_uri": "https://localhost:8080/",
          "height": 357
        },
        "id": "f6JANDyCcs3v",
        "outputId": "777afdff-4ee1-474c-eea9-b85f7a4b88d6"
      },
      "source": [
        "model = XGBClassifier()\n",
        "model.fit(X_train,y_train)\n",
        "print(model)\n",
        "#X_train.shape"
      ],
      "execution_count": null,
      "outputs": [
        {
          "output_type": "error",
          "ename": "IndexError",
          "evalue": "ignored",
          "traceback": [
            "\u001b[0;31m---------------------------------------------------------------------------\u001b[0m",
            "\u001b[0;31mIndexError\u001b[0m                                Traceback (most recent call last)",
            "\u001b[0;32m<ipython-input-91-2a3a143985e8>\u001b[0m in \u001b[0;36m<module>\u001b[0;34m()\u001b[0m\n\u001b[1;32m      1\u001b[0m \u001b[0mmodel\u001b[0m \u001b[0;34m=\u001b[0m \u001b[0mXGBClassifier\u001b[0m\u001b[0;34m(\u001b[0m\u001b[0;34m)\u001b[0m\u001b[0;34m\u001b[0m\u001b[0;34m\u001b[0m\u001b[0m\n\u001b[0;32m----> 2\u001b[0;31m \u001b[0mmodel\u001b[0m\u001b[0;34m.\u001b[0m\u001b[0mfit\u001b[0m\u001b[0;34m(\u001b[0m\u001b[0mX_train\u001b[0m\u001b[0;34m,\u001b[0m\u001b[0my_train\u001b[0m\u001b[0;34m)\u001b[0m\u001b[0;34m\u001b[0m\u001b[0;34m\u001b[0m\u001b[0m\n\u001b[0m\u001b[1;32m      3\u001b[0m \u001b[0mprint\u001b[0m\u001b[0;34m(\u001b[0m\u001b[0mmodel\u001b[0m\u001b[0;34m)\u001b[0m\u001b[0;34m\u001b[0m\u001b[0;34m\u001b[0m\u001b[0m\n\u001b[1;32m      4\u001b[0m \u001b[0;31m#X_train.shape\u001b[0m\u001b[0;34m\u001b[0m\u001b[0;34m\u001b[0m\u001b[0;34m\u001b[0m\u001b[0m\n",
            "\u001b[0;32m/usr/local/lib/python3.7/dist-packages/xgboost/sklearn.py\u001b[0m in \u001b[0;36mfit\u001b[0;34m(self, X, y, sample_weight, eval_set, eval_metric, early_stopping_rounds, verbose, xgb_model, sample_weight_eval_set, callbacks)\u001b[0m\n\u001b[1;32m    717\u001b[0m             \u001b[0mevals\u001b[0m \u001b[0;34m=\u001b[0m \u001b[0;34m(\u001b[0m\u001b[0;34m)\u001b[0m\u001b[0;34m\u001b[0m\u001b[0;34m\u001b[0m\u001b[0m\n\u001b[1;32m    718\u001b[0m \u001b[0;34m\u001b[0m\u001b[0m\n\u001b[0;32m--> 719\u001b[0;31m         \u001b[0mself\u001b[0m\u001b[0;34m.\u001b[0m\u001b[0m_features_count\u001b[0m \u001b[0;34m=\u001b[0m \u001b[0mX\u001b[0m\u001b[0;34m.\u001b[0m\u001b[0mshape\u001b[0m\u001b[0;34m[\u001b[0m\u001b[0;36m1\u001b[0m\u001b[0;34m]\u001b[0m\u001b[0;34m\u001b[0m\u001b[0;34m\u001b[0m\u001b[0m\n\u001b[0m\u001b[1;32m    720\u001b[0m \u001b[0;34m\u001b[0m\u001b[0m\n\u001b[1;32m    721\u001b[0m         \u001b[0;32mif\u001b[0m \u001b[0msample_weight\u001b[0m \u001b[0;32mis\u001b[0m \u001b[0;32mnot\u001b[0m \u001b[0;32mNone\u001b[0m\u001b[0;34m:\u001b[0m\u001b[0;34m\u001b[0m\u001b[0;34m\u001b[0m\u001b[0m\n",
            "\u001b[0;31mIndexError\u001b[0m: tuple index out of range"
          ]
        }
      ]
    },
    {
      "cell_type": "markdown",
      "metadata": {
        "id": "Yym4aFDkQZgf"
      },
      "source": [
        "# Trials (this section is to be ignored)"
      ]
    },
    {
      "cell_type": "code",
      "metadata": {
        "id": "gc0wbjOtH1sN"
      },
      "source": [
        "CONTRACTION_MAP = { \"ain't\": \"is not\",\n",
        "\"aren't\": \"are not\",\n",
        "\"can't\": \"cannot\",\n",
        "\"can't've\": \"cannot have\",\n",
        "\"'cause\": \"because\",\n",
        "\"could've\": \"could have\",\n",
        "\"couldn't\": \"could not\",\n",
        "\"couldn't've\": \"could not have\",\n",
        "\"didn't\": \"did not\",\n",
        "\"doesn't\": \"does not\",\n",
        "\"don't\": \"do not\",\n",
        "\"hadn't\": \"had not\",\n",
        "\"hadn't've\": \"had not have\",\n",
        "\"hasn't\": \"has not\",\n",
        "\"haven't\": \"have not\",\n",
        "\"he'd\": \"he would\",\n",
        "\"he'd've\": \"he would have\",\n",
        "\"he'll\": \"he will\",\n",
        "\"he'll've\": \"he he will have\",\n",
        "\"he's\": \"he is\",\n",
        "\"how'd\": \"how did\",\n",
        "\"how'd'y\": \"how do you\",\n",
        "\"how'll\": \"how will\",\n",
        "\"how's\": \"how is\",\n",
        "\"I'd\": \"I would\",\n",
        "\"I'd've\": \"I would have\",\n",
        "\"I'll\": \"I will\",\n",
        "\"I'll've\": \"I will have\",\n",
        "\"I'm\": \"I am\",\n",
        "\"I've\": \"I have\",\n",
        "\"i'd\": \"i would\",\n",
        "\"i'd've\": \"i would have\",\n",
        "\"i'll\": \"i will\",\n",
        "\"i'll've\": \"i will have\",\n",
        "\"i'm\": \"i am\",\n",
        "\"i've\": \"i have\",\n",
        "\"isn't\": \"is not\",\n",
        "\"it'd\": \"it would\",\n",
        "\"it'd've\": \"it would have\",\n",
        "\"it'll\": \"it will\",\n",
        "\"it'll've\": \"it will have\",\n",
        "\"it's\": \"it is\",\n",
        "\"let's\": \"let us\",\n",
        "\"ma'am\": \"madam\",\n",
        "\"mayn't\": \"may not\",\n",
        "\"might've\": \"might have\",\n",
        "\"mightn't\": \"might not\",\n",
        "\"mightn't've\": \"might not have\",\n",
        "\"must've\": \"must have\",\n",
        "\"mustn't\": \"must not\",\n",
        "\"mustn't've\": \"must not have\",\n",
        "\"needn't\": \"need not\",\n",
        "\"needn't've\": \"need not have\",\n",
        "\"o'clock\": \"of the clock\",\n",
        "\"oughtn't\": \"ought not\",\n",
        "\"oughtn't've\": \"ought not have\",\n",
        "\"shan't\": \"shall not\",\n",
        "\"sha'n't\": \"shall not\",\n",
        "\"shan't've\": \"shall not have\",\n",
        "\"she'd\": \"she would\",\n",
        "\"she'd've\": \"she would have\",\n",
        "\"she'll\": \"she will\",\n",
        "\"she'll've\": \"she will have\",\n",
        "\"she's\": \"she is\",\n",
        "\"should've\": \"should have\",\n",
        "\"shouldn't\": \"should not\",\n",
        "\"shouldn't've\": \"should not have\",\n",
        "\"so've\": \"so have\",\n",
        "\"so's\": \"so as\",\n",
        "\"that'd\": \"that would\",\n",
        "\"that'd've\": \"that would have\",\n",
        "\"that's\": \"that is\",\n",
        "\"there'd\": \"there would\",\n",
        "\"there'd've\": \"there would have\",\n",
        "\"there's\": \"there is\",\n",
        "\"they'd\": \"they would\",\n",
        "\"they'd've\": \"they would have\",\n",
        "\"they'll\": \"they will\",\n",
        "\"they'll've\": \"they will have\",\n",
        "\"they're\": \"they are\",\n",
        "\"they've\": \"they have\",\n",
        "\"to've\": \"to have\",\n",
        "\"wasn't\": \"was not\",\n",
        "\"we'd\": \"we would\",\n",
        "\"we'd've\": \"we would have\",\n",
        "\"we'll\": \"we will\",\n",
        "\"we'll've\": \"we will have\",\n",
        "\"we're\": \"we are\",\n",
        "\"we've\": \"we have\",\n",
        "\"weren't\": \"were not\",\n",
        "\"what'll\": \"what will\",\n",
        "\"what'll've\": \"what will have\",\n",
        "\"what're\": \"what are\",\n",
        "\"what's\": \"what is\",\n",
        "\"what've\": \"what have\",\n",
        "\"when's\": \"when is\",\n",
        "\"when've\": \"when have\",\n",
        "\"where'd\": \"where did\",\n",
        "\"where's\": \"where is\",\n",
        "\"where've\": \"where have\",\n",
        "\"who'll\": \"who will\",\n",
        "\"who'll've\": \"who will have\",\n",
        "\"who's\": \"who is\",\n",
        "\"who've\": \"who have\",\n",
        "\"why's\": \"why is\",\n",
        "\"why've\": \"why have\",\n",
        "\"will've\": \"will have\",\n",
        "\"won't\": \"will not\",\n",
        "\"won't've\": \"will not have\",\n",
        "\"would've\": \"would have\",\n",
        "\"wouldn't\": \"would not\",\n",
        "\"wouldn't've\": \"would not have\",\n",
        "\"y'all\": \"you all\",\n",
        "\"y'all'd\": \"you all would\",\n",
        "\"y'all'd've\": \"you all would have\",\n",
        "\"y'all're\": \"you all are\",\n",
        "\"y'all've\": \"you all have\",\n",
        "\"you'd\": \"you would\",\n",
        "\"you'd've\": \"you would have\",\n",
        "\"you'll\": \"you will\",\n",
        "\"you'll've\": \"you will have\",\n",
        "\"you're\": \"you are\",\n",
        "\"you've\": \"you have\"\n",
        "}"
      ],
      "execution_count": null,
      "outputs": []
    },
    {
      "cell_type": "code",
      "metadata": {
        "id": "N44p9HXKGF2l"
      },
      "source": [
        "def expand_contractions(text, map=CONTRACTION_MAP):\n",
        "    pattern = re.compile('({})'.format('|'.join(map.keys())), flags=re.IGNORECASE|re.DOTALL)\n",
        "    def get_match(contraction):\n",
        "        match = contraction.group(0)\n",
        "        first_char = match[0]\n",
        "        expanded = map.get(match) if map.get(match) else map.get(match.lower())\n",
        "        expanded = first_char+expanded[1:]\n",
        "        return expanded    \n",
        "        \n",
        "    new_text = pattern.sub(get_match, text)\n",
        "    new_text = re.sub(\"'\", \"\", new_text)\n",
        "    return new_text"
      ],
      "execution_count": null,
      "outputs": []
    },
    {
      "cell_type": "code",
      "metadata": {
        "colab": {
          "base_uri": "https://localhost:8080/",
          "height": 35
        },
        "id": "bJOW1ykgGF47",
        "outputId": "790cef6c-e50c-45be-d936-9bb7b774d8d1"
      },
      "source": [
        "# call function \n",
        "expand_contractions(\"Y’all i’d contractions you’re expanded don’t think.\")"
      ],
      "execution_count": null,
      "outputs": [
        {
          "output_type": "execute_result",
          "data": {
            "application/vnd.google.colaboratory.intrinsic+json": {
              "type": "string"
            },
            "text/plain": [
              "'Y’all i’d contractions you’re expanded don’t think.'"
            ]
          },
          "metadata": {
            "tags": []
          },
          "execution_count": 44
        }
      ]
    },
    {
      "cell_type": "code",
      "metadata": {
        "colab": {
          "base_uri": "https://localhost:8080/"
        },
        "id": "RNpQhRqoLaWu",
        "outputId": "c8b1e47c-0e1f-494b-9219-2224fb35771a"
      },
      "source": [
        "text=\"What's the best way to ensure this?\"\n",
        "for word in text.split():\n",
        "    if word.lower() in contractions:\n",
        "        text = text.replace(word, contractions[word.lower()])\n",
        "print(text)"
      ],
      "execution_count": null,
      "outputs": [
        {
          "output_type": "stream",
          "text": [
            "what is the best way to ensure this?\n"
          ],
          "name": "stdout"
        }
      ]
    }
  ]
}